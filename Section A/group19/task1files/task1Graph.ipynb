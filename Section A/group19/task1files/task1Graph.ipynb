{
 "cells": [
  {
   "cell_type": "code",
   "execution_count": 51,
   "metadata": {},
   "outputs": [],
   "source": [
    "import csv\n",
    "import matplotlib.pyplot as plt"
   ]
  },
  {
   "cell_type": "code",
   "execution_count": 52,
   "metadata": {},
   "outputs": [],
   "source": [
    "with open('task1VizStats.csv','r') as f:\n",
    "    content = f.readlines()"
   ]
  },
  {
   "cell_type": "code",
   "execution_count": 53,
   "metadata": {},
   "outputs": [],
   "source": [
    "dataCount = {}\n",
    "dataCount[\"TEXT\"] = 0\n",
    "dataCount[\"INTEGER (LONG)\"] = 0\n",
    "dataCount[\"REAL\"] = 0\n",
    "dataCount[\"DATE/TIME\"] = 0"
   ]
  },
  {
   "cell_type": "code",
   "execution_count": 54,
   "metadata": {},
   "outputs": [],
   "source": [
    "types = dataCount.keys()\n",
    "for i in content:\n",
    "    x = i.split(\",\")\n",
    "    #print(x)\n",
    "    for y in x:\n",
    "        if y.strip(\"\\n\") in types:\n",
    "            dataCount[y.strip(\"\\n\")] += 1"
   ]
  },
  {
   "cell_type": "code",
   "execution_count": 55,
   "metadata": {},
   "outputs": [
    {
     "name": "stdout",
     "output_type": "stream",
     "text": [
      "26429\n"
     ]
    }
   ],
   "source": [
    "print(len(content))"
   ]
  },
  {
   "cell_type": "code",
   "execution_count": 56,
   "metadata": {},
   "outputs": [
    {
     "data": {
      "image/png": "[encoded data removed]",
      "text/plain": [
       "<Figure size 432x288 with 1 Axes>"
      ]
     },
     "metadata": {
      "needs_background": "light"
     },
     "output_type": "display_data"
    }
   ],
   "source": [
    "plt.bar(list(dataCount.keys()),list(dataCount.values()))\n",
    "xlocs, xlabs = plt.xticks()\n",
    "plt.xlabel(\"Data type\")\n",
    "plt.ylabel(\"No. of columns\")\n",
    "for i, v in enumerate(list(dataCount.values())):\n",
    "    plt.text(xlocs[i] - 0.25, v + 0.01, str(v))\n",
    "plt.savefig(\"task1Stats.jpg\")"
   ]
  },
  {
   "cell_type": "code",
   "execution_count": null,
   "metadata": {},
   "outputs": [],
   "source": []
  }
 ],
 "metadata": {
  "kernelspec": {
   "display_name": "Python 3",
   "language": "python",
   "name": "python3"
  },
  "language_info": {
   "codemirror_mode": {
    "name": "ipython",
    "version": 3
   },
   "file_extension": ".py",
   "mimetype": "text/x-python",
   "name": "python",
   "nbconvert_exporter": "python",
   "pygments_lexer": "ipython3",
   "version": "3.7.4"
  }
 },
 "nbformat": 4,
 "nbformat_minor": 2
}
