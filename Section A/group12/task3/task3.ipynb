{
 "cells": [
  {
   "cell_type": "code",
   "execution_count": 1,
   "metadata": {},
   "outputs": [],
   "source": [
    "try:\n",
    "    spark.stop()\n",
    "except:\n",
    "    pass\n",
    "\n",
    "# Using findspark to find automatically the spark folder\n",
    "import findspark\n",
    "findspark.init()\n",
    "\n",
    "# import python libraries\n",
    "\n",
    "# initialize\n",
    "from pyspark.sql import SparkSession\n",
    "\n",
    "from pyspark.sql.types import StringType\n",
    "from pyspark.sql.types import DoubleType\n",
    "from pyspark.sql.types import DateType\n",
    "from pyspark.sql.types import IntegerType\n",
    "from pyspark.sql import functions as F\n",
    "from pyspark.sql import Row\n",
    "\n",
    "# from pyspark.ml.feature import HashingTF, IDF, RegexTokenizer, StringIndexer, NGram\n",
    "# from pyspark.ml.classification import LogisticRegression\n",
    "# from pyspark.ml import Pipeline\n",
    "# from pyspark.mllib.evaluation import MulticlassMetrics\n",
    "\n",
    "spark = SparkSession.builder.master(\"local[*]\").getOrCreate()\n"
   ]
  },
  {
   "cell_type": "code",
   "execution_count": 2,
   "metadata": {},
   "outputs": [],
   "source": [
    "# df = spark.read.option(\"sep\", \"\\t\").option(\"header\", \"true\").csv(\"../Downloads/2005_-_2015_Graduation_Outcomes.tsv\")"
   ]
  },
  {
   "cell_type": "code",
   "execution_count": 3,
   "metadata": {},
   "outputs": [],
   "source": [
    "# df.printSchema()\n",
    "# df.select('Demographic').show(truncate=False)\n",
    "# df.createOrReplaceTempView(\"dfnew\")\n",
    "# df.toPandas().head()\n",
    "# spark.sql(\"select distinct Demographic from dfnew\").show(truncate=False)"
   ]
  },
  {
   "cell_type": "code",
   "execution_count": 4,
   "metadata": {},
   "outputs": [],
   "source": [
    "df = spark.read.option(\"sep\", \"\\t\").option(\"header\", \"true\").csv(\"../Downloads/311_Service_Requests_for_2006.tsv\")"
   ]
  },
  {
   "cell_type": "code",
   "execution_count": 79,
   "metadata": {},
   "outputs": [],
   "source": [
    "# df.columns\n",
    "# df.select('Unique Key', 'Created Date', 'Closed Date', 'Incident Zip', 'Borough').show(truncate=False)"
   ]
  },
  {
   "cell_type": "code",
   "execution_count": 5,
   "metadata": {},
   "outputs": [],
   "source": [
    "import numpy as np\n",
    "import pandas as pd"
   ]
  },
  {
   "cell_type": "code",
   "execution_count": 80,
   "metadata": {},
   "outputs": [],
   "source": [
    "# df.count()"
   ]
  },
  {
   "cell_type": "code",
   "execution_count": 81,
   "metadata": {},
   "outputs": [],
   "source": [
    "def correct_zip(zip_code):\n",
    "    try:\n",
    "        zip_code = int(float(zip_code))\n",
    "    except:\n",
    "        try:\n",
    "            zip_code = int(float(zip_code.split('-')[0]))\n",
    "        except:\n",
    "            return None\n",
    "    if zip_code < 10000 or zip_code > 19999:\n",
    "        return None\n",
    "    else:\n",
    "        return str(zip_code)\n",
    "\n",
    "def remove_borough(b):\n",
    "    if b==\"Unspecified\":\n",
    "        return None\n",
    "    else:\n",
    "        return b\n",
    "\n",
    "def create_date(date):\n",
    "    datel = date.split(\" \")\n",
    "    return datel[0]\n",
    "\n",
    "def create_month(date):\n",
    "    datel = date.split(\"/\")\n",
    "    try:\n",
    "        return int(datel[0])\n",
    "    except:\n",
    "        return \n",
    "\n",
    "create_month = F.udf(create_month, IntegerType())\n",
    "create_date = F.udf(create_date, StringType())\n",
    "remove_borough = F.udf(remove_borough, StringType())\n",
    "correct_zip = F.udf(correct_zip, StringType())"
   ]
  },
  {
   "cell_type": "code",
   "execution_count": 38,
   "metadata": {},
   "outputs": [],
   "source": [
    "# df.columns\n",
    "# df.select(\"Latitude\", \"Longitude\").show()\n",
    "# newdf = df.filter(df.Latitude.isNotNull())\n",
    "# newdf = newdf.filter(df.Longitude.isNotNull())\n",
    "# newdf = newdf.filter(F.col(\"Closed Date\").isNotNull())\n",
    "# newdf.select(\"Latitude\", \"Longitude\").show()\n",
    "# newdf.count()"
   ]
  },
  {
   "cell_type": "code",
   "execution_count": 82,
   "metadata": {},
   "outputs": [
    {
     "name": "stdout",
     "output_type": "stream",
     "text": [
      "+-------------+-----------+\n",
      "|created_month|closed_date|\n",
      "+-------------+-----------+\n",
      "|            4| 05/19/2006|\n",
      "|            4| 05/29/2009|\n",
      "|           11| 06/01/2009|\n",
      "|            5| 05/27/2006|\n",
      "|            6| 06/08/2006|\n",
      "|            8| 08/21/2006|\n",
      "|            8| 08/21/2006|\n",
      "|            8| 08/05/2006|\n",
      "|            9| 09/05/2006|\n",
      "|            1| 01/06/2006|\n",
      "|            8| 08/16/2006|\n",
      "|            1| 01/06/2006|\n",
      "|            8| 08/11/2006|\n",
      "|            9| 09/27/2006|\n",
      "|            1| 01/24/2006|\n",
      "|            6| 06/13/2006|\n",
      "|            6| 05/29/2009|\n",
      "|            8| 08/19/2006|\n",
      "|            9| 09/26/2006|\n",
      "|            9| 09/26/2006|\n",
      "+-------------+-----------+\n",
      "only showing top 20 rows\n",
      "\n"
     ]
    }
   ],
   "source": [
    "# df = df.na.fill(\"null\")\n",
    "df.createOrReplaceTempView(\"df\")\n",
    "# spark.sql(\"select distinct `Incident Zip`from df\").rdd.take(50)\n",
    "# df.select('Incident Zip', 'Borough').show()\n",
    "df = df.withColumn(\"zip\", correct_zip(F.col(\"Incident Zip\")))\n",
    "# df.select(\"zip\").show()\n",
    "df = df.withColumn('borough', remove_borough(F.col(\"Borough\")))\n",
    "df = df.withColumn('created_date', create_date(F.col(\"Created Date\")))\n",
    "df = df.withColumn('closed_date', create_date(F.col(\"Closed Date\")))\n",
    "df = df.withColumn('created_month', create_month(F.col(\"Created Date\")))\n",
    "df = df.filter(df.borough.isNotNull())\n",
    "df = df.filter(df.Latitude.isNotNull())\n",
    "df = df.filter(df.Longitude.isNotNull())\n",
    "df = df.filter(df.created_month.isNotNull())\n",
    "df = df.filter(F.col(\"Closed Date\").isNotNull())\n",
    "df.select('created_month', 'closed_date').show()\n",
    "# df.count()"
   ]
  },
  {
   "cell_type": "code",
   "execution_count": 56,
   "metadata": {},
   "outputs": [],
   "source": [
    "# spark.sql(\"select distinct agency from df\").show()\n",
    "# spark.sql(\"select distinct `Complaint Type` from df\").show()\n",
    "# spark.sql(\"Select distinct City from df\").show(df.count())"
   ]
  },
  {
   "cell_type": "code",
   "execution_count": 11,
   "metadata": {},
   "outputs": [],
   "source": [
    "# df.count()\n",
    "# df.select('City','borough').show(1000)"
   ]
  },
  {
   "cell_type": "code",
   "execution_count": 58,
   "metadata": {},
   "outputs": [],
   "source": [
    "# df.select('City').distinct().show(df.count())\n",
    "# df.select('Status').distinct().show(df.count())\n",
    "# df.select('Borough').distinct().show(df.count())\n",
    "# df.groupBy('Agency').count().select('Agency', F.col(\"count\").alias(\"ctr\")).show()"
   ]
  },
  {
   "cell_type": "code",
   "execution_count": null,
   "metadata": {},
   "outputs": [],
   "source": []
  },
  {
   "cell_type": "code",
   "execution_count": 59,
   "metadata": {},
   "outputs": [
    {
     "name": "stdout",
     "output_type": "stream",
     "text": [
      "+---------------+----------------+\n",
      "|       Latitude|       Longitude|\n",
      "+---------------+----------------+\n",
      "|40.727090279701|-73.976638730132|\n",
      "|40.605520957995|-74.002117592825|\n",
      "| 40.67560770823|-73.728742151361|\n",
      "|40.636454776697|-74.000526040593|\n",
      "|40.672619197264| -73.95435384966|\n",
      "|40.710023243413|-73.916977799538|\n",
      "|40.821556094196|-73.896887434225|\n",
      "|40.727090279701|-73.976638730132|\n",
      "|40.763048649245|-73.902342276776|\n",
      "|40.636454776697|-74.000526040593|\n",
      "|40.636454776697|-74.000526040593|\n",
      "|40.636454776697|-74.000526040593|\n",
      "|40.636454776697|-74.000526040593|\n",
      "|40.636454776697|-74.000526040593|\n",
      "|40.689628190909|-73.953440732874|\n",
      "|40.745934212513|-73.709552090395|\n",
      "|40.745934212513|-73.709552090395|\n",
      "|40.727090279701|-73.976638730132|\n",
      "|40.710023243413|-73.916977799538|\n",
      "|40.710023243413|-73.916977799538|\n",
      "+---------------+----------------+\n",
      "only showing top 20 rows\n",
      "\n"
     ]
    }
   ],
   "source": [
    "df.select(\"Latitude\", \"Longitude\").show()"
   ]
  },
  {
   "cell_type": "code",
   "execution_count": 104,
   "metadata": {},
   "outputs": [],
   "source": [
    "# df.columns"
   ]
  },
  {
   "cell_type": "code",
   "execution_count": 13,
   "metadata": {},
   "outputs": [
    {
     "name": "stdout",
     "output_type": "stream",
     "text": [
      "+-----------------------+-------+--------+\n",
      "|Complaint Type         |Borough|count(1)|\n",
      "+-----------------------+-------+--------+\n",
      "|Water System           |BRONX  |11459   |\n",
      "|Street Light Condition |BRONX  |11113   |\n",
      "|Noise - Street/Sidewalk|BRONX  |8265    |\n",
      "|Sewer                  |BRONX  |8198    |\n",
      "|Blocked Driveway       |BRONX  |8051    |\n",
      "+-----------------------+-------+--------+\n",
      "\n",
      "+-----------------------+---------+--------+\n",
      "|Complaint Type         |Borough  |count(1)|\n",
      "+-----------------------+---------+--------+\n",
      "|Noise                  |MANHATTAN|21001   |\n",
      "|Noise - Street/Sidewalk|MANHATTAN|15668   |\n",
      "|Taxi Complaint         |MANHATTAN|14104   |\n",
      "|Noise - Commercial     |MANHATTAN|13888   |\n",
      "|Water System           |MANHATTAN|13541   |\n",
      "+-----------------------+---------+--------+\n",
      "\n",
      "+---------------------------------+-------------+--------+\n",
      "|Complaint Type                   |Borough      |count(1)|\n",
      "+---------------------------------+-------------+--------+\n",
      "|Street Light Condition           |STATEN ISLAND|10085   |\n",
      "|Street Condition                 |STATEN ISLAND|8597    |\n",
      "|Water System                     |STATEN ISLAND|7682    |\n",
      "|Sewer                            |STATEN ISLAND|7405    |\n",
      "|Missed Collection (All Materials)|STATEN ISLAND|4627    |\n",
      "+---------------------------------+-------------+--------+\n",
      "\n",
      "+------------------------+--------+--------+\n",
      "|Complaint Type          |Borough |count(1)|\n",
      "+------------------------+--------+--------+\n",
      "|Street Light Condition  |BROOKLYN|22586   |\n",
      "|Sewer                   |BROOKLYN|22221   |\n",
      "|Water System            |BROOKLYN|20322   |\n",
      "|Blocked Driveway        |BROOKLYN|19488   |\n",
      "|Traffic Signal Condition|BROOKLYN|18433   |\n",
      "+------------------------+--------+--------+\n",
      "\n",
      "+----------------------+-------+--------+\n",
      "|Complaint Type        |Borough|count(1)|\n",
      "+----------------------+-------+--------+\n",
      "|Street Light Condition|QUEENS |34856   |\n",
      "|Sewer                 |QUEENS |28850   |\n",
      "|Water System          |QUEENS |20556   |\n",
      "|Blocked Driveway      |QUEENS |20416   |\n",
      "|Building/Use          |QUEENS |16988   |\n",
      "+----------------------+-------+--------+\n",
      "\n"
     ]
    }
   ],
   "source": [
    "df.createOrReplaceTempView(\"df\")\n",
    "bronx = spark.sql(\"select `Complaint Type`, Borough, count(*) from df where Borough=\\\"BRONX\\\" group by Borough, `Complaint Type` order by Borough, count(*) desc limit 5\")\n",
    "manhattan = spark.sql(\"select `Complaint Type`, Borough, count(*) from df where Borough=\\\"MANHATTAN\\\" group by Borough, `Complaint Type` order by Borough, count(*) desc limit 5\")\n",
    "staten_island = spark.sql(\"select `Complaint Type`, Borough, count(*) from df where Borough=\\\"STATEN ISLAND\\\" group by Borough, `Complaint Type` order by Borough, count(*) desc limit 5\")\n",
    "brooklyn = spark.sql(\"select `Complaint Type`, Borough, count(*) from df where Borough=\\\"BROOKLYN\\\" group by Borough, `Complaint Type` order by Borough, count(*) desc limit 5\")\n",
    "queens = spark.sql(\"select `Complaint Type`, Borough, count(*) from df where Borough=\\\"QUEENS\\\" group by Borough, `Complaint Type` order by Borough, count(*) desc limit 5\")\n",
    "# df.groupBy(\"Complaint Type\", \"Borough\").count().select('Complaint Type','Borough', F.col(\"count\").alias(\"ctr\")).orderBy([F.col(\"ctr\"), F.col(\"Borough\")], ascending=False).show(df.count(), truncate=False)\n",
    "\n",
    "bronx.show(truncate=False)\n",
    "manhattan.show(truncate=False)\n",
    "staten_island.show(truncate=False)\n",
    "brooklyn.show(truncate=False)\n",
    "queens.show(truncate=False)\n",
    "\n"
   ]
  },
  {
   "cell_type": "code",
   "execution_count": 146,
   "metadata": {},
   "outputs": [
    {
     "name": "stdout",
     "output_type": "stream",
     "text": [
      "+-------------+------------+------------+-----------+-----------+\n",
      "|created_month|created_date|unix_created|closed_date|unix_closed|\n",
      "+-------------+------------+------------+-----------+-----------+\n",
      "|            4|  04/20/2006|  2006-04-20| 05/19/2006| 2006-05-19|\n",
      "|            4|  04/18/2006|  2006-04-18| 05/29/2009| 2009-05-29|\n",
      "|           11|  11/07/2006|  2006-11-07| 06/01/2009| 2009-06-01|\n",
      "|            5|  05/27/2006|  2006-05-27| 05/27/2006| 2006-05-27|\n",
      "|            6|  06/07/2006|  2006-06-07| 06/08/2006| 2006-06-08|\n",
      "|            8|  08/21/2006|  2006-08-21| 08/21/2006| 2006-08-21|\n",
      "|            8|  08/21/2006|  2006-08-21| 08/21/2006| 2006-08-21|\n",
      "|            8|  08/05/2006|  2006-08-05| 08/05/2006| 2006-08-05|\n",
      "|            9|  09/04/2006|  2006-09-04| 09/05/2006| 2006-09-05|\n",
      "|            1|  01/03/2006|  2006-01-03| 01/06/2006| 2006-01-06|\n",
      "|            8|  08/16/2006|  2006-08-16| 08/16/2006| 2006-08-16|\n",
      "|            1|  01/05/2006|  2006-01-05| 01/06/2006| 2006-01-06|\n",
      "|            8|  08/08/2006|  2006-08-08| 08/11/2006| 2006-08-11|\n",
      "|            9|  09/22/2006|  2006-09-22| 09/27/2006| 2006-09-27|\n",
      "|            1|  01/23/2006|  2006-01-23| 01/24/2006| 2006-01-24|\n",
      "|            6|  06/13/2006|  2006-06-13| 06/13/2006| 2006-06-13|\n",
      "|            6|  06/13/2006|  2006-06-13| 05/29/2009| 2009-05-29|\n",
      "|            8|  08/19/2006|  2006-08-19| 08/19/2006| 2006-08-19|\n",
      "|            9|  09/26/2006|  2006-09-26| 09/26/2006| 2006-09-26|\n",
      "|            9|  09/26/2006|  2006-09-26| 09/26/2006| 2006-09-26|\n",
      "+-------------+------------+------------+-----------+-----------+\n",
      "only showing top 20 rows\n",
      "\n",
      "+------------+-----------+-------------+--------------------+---------+------+------------+-----------+\n",
      "|created_date|closed_date|created_month|      Complaint Type|  Borough|Agency|unix_created|unix_closed|\n",
      "+------------+-----------+-------------+--------------------+---------+------+------------+-----------+\n",
      "|  04/20/2006| 05/19/2006|            4|      Taxi Complaint|MANHATTAN|   TLC|  2006-04-20| 2006-05-19|\n",
      "|  04/18/2006| 05/29/2009|            4|Root/Sewer/Sidewa...| BROOKLYN|   DPR|  2006-04-18| 2009-05-29|\n",
      "|  11/07/2006| 06/01/2009|           11|           Dead Tree|   QUEENS|   DPR|  2006-11-07| 2009-06-01|\n",
      "|  05/27/2006| 05/27/2006|            5| Homeless Encampment| BROOKLYN|  NYPD|  2006-05-27| 2006-05-27|\n",
      "|  06/07/2006| 06/08/2006|            6|  Food Establishment| BROOKLYN| DOHMH|  2006-06-07| 2006-06-08|\n",
      "|  08/21/2006| 08/21/2006|            8|Overgrown Tree/Br...|   QUEENS|   DPR|  2006-08-21| 2006-08-21|\n",
      "|  08/21/2006| 08/21/2006|            8|Noise - Street/Si...|    BRONX|  NYPD|  2006-08-21| 2006-08-21|\n",
      "|  08/05/2006| 08/05/2006|            8|Noise - Street/Si...|MANHATTAN|  NYPD|  2006-08-05| 2006-08-05|\n",
      "|  09/04/2006| 09/05/2006|            9|   Highway Condition|   QUEENS|   DOT|  2006-09-04| 2006-09-05|\n",
      "|  01/03/2006| 01/06/2006|            1|Street Light Cond...| BROOKLYN|   DOT|  2006-01-03| 2006-01-06|\n",
      "|  08/16/2006| 08/16/2006|            8|Street Light Cond...| BROOKLYN|   DOT|  2006-08-16| 2006-08-16|\n",
      "|  01/05/2006| 01/06/2006|            1|Street Light Cond...| BROOKLYN|   DOT|  2006-01-05| 2006-01-06|\n",
      "|  08/08/2006| 08/11/2006|            8|Street Light Cond...| BROOKLYN|   DOT|  2006-08-08| 2006-08-11|\n",
      "|  09/22/2006| 09/27/2006|            9|Street Light Cond...| BROOKLYN|   DOT|  2006-09-22| 2006-09-27|\n",
      "|  01/23/2006| 01/24/2006|            1|              Rodent| BROOKLYN| DOHMH|  2006-01-23| 2006-01-24|\n",
      "|  06/13/2006| 06/13/2006|            6|Overgrown Tree/Br...|   QUEENS|   DPR|  2006-06-13| 2006-06-13|\n",
      "|  06/13/2006| 05/29/2009|            6|Root/Sewer/Sidewa...|   QUEENS|   DPR|  2006-06-13| 2009-05-29|\n",
      "|  08/19/2006| 08/19/2006|            8|Noise - Street/Si...|MANHATTAN|  NYPD|  2006-08-19| 2006-08-19|\n",
      "|  09/26/2006| 09/26/2006|            9|Overgrown Tree/Br...|   QUEENS|   DPR|  2006-09-26| 2006-09-26|\n",
      "|  09/26/2006| 09/26/2006|            9|Overgrown Tree/Br...|   QUEENS|   DPR|  2006-09-26| 2006-09-26|\n",
      "+------------+-----------+-------------+--------------------+---------+------+------------+-----------+\n",
      "only showing top 20 rows\n",
      "\n"
     ]
    }
   ],
   "source": [
    "# Finding the complaints by Seasons?. \n",
    "# Say that we find the complaint type by Month of a year\n",
    "newdf = df.select(\"created_date\", \"closed_date\", \"created_month\", \"Complaint Type\", \"Borough\", \"Agency\")\n",
    "newdf = newdf.select(F.col(\"*\"), F.to_date(\"created_date\", \"MM/dd/yyyy\").alias(\"unix_created\"))\n",
    "newdf = newdf.select(F.col(\"*\"), F.to_date(\"closed_date\", \"MM/dd/yyyy\").alias(\"unix_closed\"))\n",
    "newdf.select(\"created_month\",\"created_date\", \"unix_created\", \"closed_date\", \"unix_closed\").show()\n",
    "# datedf.show(truncate=False)\n",
    "newdf.filter(newdf.unix_closed >= newdf.unix_created).show()\n",
    "\n",
    "# df.filter(df[\"Created Date\"] > df[\"Closed Date\"]).select(\"Created Date\", \"Closed Date\").show(truncate = False)\n",
    "# datedf.schema"
   ]
  },
  {
   "cell_type": "code",
   "execution_count": 151,
   "metadata": {},
   "outputs": [
    {
     "name": "stdout",
     "output_type": "stream",
     "text": [
      "+-----------------+\n",
      "|     process_time|\n",
      "+-----------------+\n",
      "|             29.0|\n",
      "|              0.0|\n",
      "|              0.0|\n",
      "|              0.0|\n",
      "|              0.0|\n",
      "|              0.0|\n",
      "|              0.0|\n",
      "|              1.0|\n",
      "|              1.0|\n",
      "|              1.0|\n",
      "|              1.0|\n",
      "|              0.0|\n",
      "|7.041666666666667|\n",
      "|7.041666666666667|\n",
      "|              5.0|\n",
      "|              2.0|\n",
      "|              1.0|\n",
      "|              3.0|\n",
      "|              0.0|\n",
      "|              0.0|\n",
      "+-----------------+\n",
      "only showing top 20 rows\n",
      "\n"
     ]
    }
   ],
   "source": [
    "# newdf.select(F.col(\"unix_closed\")-F.col(\"unix_created\")).show()\n",
    "# newdf.schema\n",
    "timestamp = (F.unix_timestamp('unix_closed', \"yyyy-MM-dd\") - F.unix_timestamp('unix_created', \"yyyy-MM-dd\"))/86400\n",
    "newdf = newdf.withColumn(\"process_time\", timestamp)\n",
    "newdf.filter(newdf.Borough==\"MANHATTAN\").select(\"process_time\").show()"
   ]
  },
  {
   "cell_type": "code",
   "execution_count": 152,
   "metadata": {},
   "outputs": [
    {
     "name": "stdout",
     "output_type": "stream",
     "text": [
      "+-------------+--------------+------------------+\n",
      "|      Borough|count(borough)| avg(process_time)|\n",
      "+-------------+--------------+------------------+\n",
      "|       QUEENS|        288712|31.058002005458732|\n",
      "|     BROOKLYN|        284030| 43.45282701944627|\n",
      "|        BRONX|        115590| 35.09718581480519|\n",
      "|    MANHATTAN|        198569|  25.1869411052749|\n",
      "|STATEN ISLAND|         75045|24.824945588202645|\n",
      "+-------------+--------------+------------------+\n",
      "\n",
      "+------+--------------+-------------------+\n",
      "|Agency|count(borough)|  avg(process_time)|\n",
      "+------+--------------+-------------------+\n",
      "|   DOT|        208173|   7.78393091323083|\n",
      "|   DCA|         17542| 301.31775643218214|\n",
      "|   HPD|             3|  9.347222222222223|\n",
      "|   DPR|         39335|  415.4491621117748|\n",
      "|   TLC|         18845|  24.10381622004068|\n",
      "| 3-1-1|           169| 381.92899408284023|\n",
      "|  NYPD|        190107|0.20396167246164879|\n",
      "|   DOB|        115226|  41.08658853036635|\n",
      "|   DEP|        212905| 10.096235214454028|\n",
      "|   DOE|          7322| 12.911539424565236|\n",
      "| DOHMH|         18541|   47.4519982740952|\n",
      "|  DSNY|        133243|  3.947757730862658|\n",
      "| DOITT|           535|  75.52258566978192|\n",
      "+------+--------------+-------------------+\n",
      "\n"
     ]
    }
   ],
   "source": [
    "newdf.groupBy(\"Borough\").agg({'process_time':'avg', 'borough':'count'}).show()\n",
    "newdf.groupBy(\"Agency\").agg({'process_time':'avg', 'borough':'count'}).show()"
   ]
  },
  {
   "cell_type": "code",
   "execution_count": 103,
   "metadata": {},
   "outputs": [
    {
     "name": "stdout",
     "output_type": "stream",
     "text": [
      "Change over the months for Brooklyn\n",
      "For Winter\n",
      "+----------------------+-----+\n",
      "|Complaint Type        |ctr  |\n",
      "+----------------------+-----+\n",
      "|Street Light Condition|15248|\n",
      "|Sewer                 |11928|\n",
      "|Street Condition      |11027|\n",
      "|Blocked Driveway      |10511|\n",
      "|Water System          |9771 |\n",
      "+----------------------+-----+\n",
      "\n",
      "For Spring\n",
      "+----------------------+-----+\n",
      "|Complaint Type        |ctr  |\n",
      "+----------------------+-----+\n",
      "|Street Light Condition|15458|\n",
      "|Sewer                 |12948|\n",
      "|Street Condition      |12687|\n",
      "|Water System          |12544|\n",
      "|Blocked Driveway      |9901 |\n",
      "+----------------------+-----+\n",
      "\n",
      "For Summer\n",
      "+-----------------------------+-----+\n",
      "|Complaint Type               |ctr  |\n",
      "+-----------------------------+-----+\n",
      "|Water System                 |24119|\n",
      "|Sewer                        |21387|\n",
      "|Noise - Street/Sidewalk      |17203|\n",
      "|Street Light Condition       |15076|\n",
      "|General Construction/Plumbing|11065|\n",
      "+-----------------------------+-----+\n",
      "\n",
      "For Fall\n",
      "+-----------------------------+-----+\n",
      "|Complaint Type               |ctr  |\n",
      "+-----------------------------+-----+\n",
      "|Street Light Condition       |15857|\n",
      "|Sewer                        |11833|\n",
      "|General Construction/Plumbing|11102|\n",
      "|Blocked Driveway             |11009|\n",
      "|Water System                 |10442|\n",
      "+-----------------------------+-----+\n",
      "\n",
      "Change over the months for QUEENS\n",
      "For Winter\n",
      "+----------------------+-----+\n",
      "|Complaint Type        |ctr  |\n",
      "+----------------------+-----+\n",
      "|Street Light Condition|15816|\n",
      "|Sewer                 |12316|\n",
      "|Street Condition      |11236|\n",
      "|Blocked Driveway      |10545|\n",
      "|Water System          |10131|\n",
      "+----------------------+-----+\n",
      "\n",
      "For Spring\n",
      "+----------------------+-----+\n",
      "|Complaint Type        |ctr  |\n",
      "+----------------------+-----+\n",
      "|Street Light Condition|16466|\n",
      "|Sewer                 |13588|\n",
      "|Street Condition      |12491|\n",
      "|Water System          |11778|\n",
      "|Blocked Driveway      |9916 |\n",
      "+----------------------+-----+\n",
      "\n",
      "For Summer\n",
      "+-----------------------------+-----+\n",
      "|Complaint Type               |ctr  |\n",
      "+-----------------------------+-----+\n",
      "|Water System                 |24135|\n",
      "|Sewer                        |22403|\n",
      "|Noise - Street/Sidewalk      |16393|\n",
      "|Street Light Condition       |16335|\n",
      "|General Construction/Plumbing|10759|\n",
      "+-----------------------------+-----+\n",
      "\n",
      "For Fall\n",
      "+-----------------------------+-----+\n",
      "|Complaint Type               |ctr  |\n",
      "+-----------------------------+-----+\n",
      "|Street Light Condition       |17085|\n",
      "|Sewer                        |12030|\n",
      "|Blocked Driveway             |11120|\n",
      "|Water System                 |10972|\n",
      "|General Construction/Plumbing|10927|\n",
      "+-----------------------------+-----+\n",
      "\n",
      "\n"
     ]
    }
   ],
   "source": [
    "newdf.createOrReplaceTempView(\"newdf\")\n",
    "print(\"Change over the months for Brooklyn\")\n",
    "print(\"For Winter\")\n",
    "spark.sql(\"select `Complaint Type`, count(*) as ctr from newdf where created_month=12 or created_month=1 or created_month=2 and Borough=\\\"BROOKLYN\\\" group by `Complaint Type` order by ctr desc limit 5\").show(truncate=False)\n",
    "print(\"For Spring\")\n",
    "spark.sql(\"select `Complaint Type`, count(*) as ctr from newdf where created_month=3 or created_month=4 or created_month=5 and Borough=\\\"BROOKLYN\\\" group by `Complaint Type` order by ctr desc limit 5\").show(truncate=False)\n",
    "print(\"For Summer\")\n",
    "spark.sql(\"select `Complaint Type`, count(*) as ctr from newdf where created_month=6 or created_month=7 or created_month=8 and Borough=\\\"BROOKLYN\\\" group by `Complaint Type` order by ctr desc limit 5\").show(truncate=False)\n",
    "print(\"For Fall\")\n",
    "spark.sql(\"select `Complaint Type`, count(*) as ctr from newdf where created_month=9 or created_month=10 or created_month=11 and Borough=\\\"BROOKLYN\\\" group by `Complaint Type` order by ctr desc limit 5\").show(truncate=False)\n",
    "\n",
    "print(\"Change over the months for QUEENS\")\n",
    "print(\"For Winter\")\n",
    "spark.sql(\"select `Complaint Type`, count(*) as ctr from newdf where created_month=12 or created_month=1 or created_month=2 and Borough=\\\"QUEENS\\\" group by `Complaint Type` order by ctr desc limit 5\").show(truncate=False)\n",
    "print(\"For Spring\")\n",
    "spark.sql(\"select `Complaint Type`, count(*) as ctr from newdf where created_month=3 or created_month=4 or created_month=5 and Borough=\\\"QUEENS\\\" group by `Complaint Type` order by ctr desc limit 5\").show(truncate=False)\n",
    "print(\"For Summer\")\n",
    "spark.sql(\"select `Complaint Type`, count(*) as ctr from newdf where created_month=6 or created_month=7 or created_month=8 and Borough=\\\"QUEENS\\\" group by `Complaint Type` order by ctr desc limit 5\").show(truncate=False)\n",
    "print(\"For Fall\")\n",
    "spark.sql(\"select `Complaint Type`, count(*) as ctr from newdf where created_month=9 or created_month=10 or created_month=11 and Borough=\\\"QUEENS\\\" group by `Complaint Type` order by ctr desc limit 5\").show(truncate=False)\n",
    "\n",
    "\n",
    "print()\n"
   ]
  },
  {
   "cell_type": "code",
   "execution_count": 123,
   "metadata": {},
   "outputs": [
    {
     "data": {
      "text/plain": [
       "StructType(List(StructField(created_date,StringType,true),StructField(closed_date,StringType,true)))"
      ]
     },
     "execution_count": 123,
     "metadata": {},
     "output_type": "execute_result"
    }
   ],
   "source": [
    "# Find resolution times per borough\n",
    "# First time resolution times in minutes?\n",
    "temp = df.select(\"created_date\", \"closed_date\")\n",
    "temp.schema"
   ]
  },
  {
   "cell_type": "code",
   "execution_count": null,
   "metadata": {},
   "outputs": [],
   "source": []
  },
  {
   "cell_type": "code",
   "execution_count": null,
   "metadata": {},
   "outputs": [],
   "source": []
  },
  {
   "cell_type": "code",
   "execution_count": null,
   "metadata": {},
   "outputs": [],
   "source": []
  },
  {
   "cell_type": "code",
   "execution_count": null,
   "metadata": {},
   "outputs": [],
   "source": []
  },
  {
   "cell_type": "code",
   "execution_count": null,
   "metadata": {},
   "outputs": [],
   "source": []
  },
  {
   "cell_type": "code",
   "execution_count": 108,
   "metadata": {},
   "outputs": [],
   "source": [
    "import matplotlib.pyplot as plt\n",
    "import descartes\n",
    "import geopandas as gpd\n",
    "from shapely.geometry import Polygon, Point\n",
    "%matplotlib inline"
   ]
  },
  {
   "cell_type": "code",
   "execution_count": 125,
   "metadata": {},
   "outputs": [],
   "source": [
    "street_map = gpd.read_file(\"../Downloads/UHF_42_DOHMH_2009/UHF_42_DOHMH_2009.shp\")"
   ]
  },
  {
   "cell_type": "code",
   "execution_count": 126,
   "metadata": {
    "scrolled": true
   },
   "outputs": [
    {
     "data": {
      "text/plain": [
       "<matplotlib.axes._subplots.AxesSubplot at 0x154c3da50>"
      ]
     },
     "execution_count": 126,
     "metadata": {},
     "output_type": "execute_result"
    },
    {
     "data": {
      "image/png": "[encoded data removed]",
      "text/plain": [
       "<Figure size 1080x1080 with 1 Axes>"
      ]
     },
     "metadata": {
      "needs_background": "light"
     },
     "output_type": "display_data"
    }
   ],
   "source": [
    "fig,ax = plt.subplots(figsize=(15,15))\n",
    "street_map.plot(ax=ax)"
   ]
  },
  {
   "cell_type": "code",
   "execution_count": 112,
   "metadata": {},
   "outputs": [],
   "source": [
    "crs = {'init':'epsg:4326'}"
   ]
  },
  {
   "cell_type": "code",
   "execution_count": 121,
   "metadata": {},
   "outputs": [
    {
     "data": {
      "text/html": [
       "<div>\n",
       "<style scoped>\n",
       "    .dataframe tbody tr th:only-of-type {\n",
       "        vertical-align: middle;\n",
       "    }\n",
       "\n",
       "    .dataframe tbody tr th {\n",
       "        vertical-align: top;\n",
       "    }\n",
       "\n",
       "    .dataframe thead th {\n",
       "        text-align: right;\n",
       "    }\n",
       "</style>\n",
       "<table border=\"1\" class=\"dataframe\">\n",
       "  <thead>\n",
       "    <tr style=\"text-align: right;\">\n",
       "      <th></th>\n",
       "      <th>Complaint Type</th>\n",
       "      <th>Latitude</th>\n",
       "      <th>Longitude</th>\n",
       "    </tr>\n",
       "  </thead>\n",
       "  <tbody>\n",
       "    <tr>\n",
       "      <th>0</th>\n",
       "      <td>DCA / DOH New License Application Request</td>\n",
       "      <td>None</td>\n",
       "      <td>None</td>\n",
       "    </tr>\n",
       "    <tr>\n",
       "      <th>1</th>\n",
       "      <td>Ferry Inquiry</td>\n",
       "      <td>None</td>\n",
       "      <td>None</td>\n",
       "    </tr>\n",
       "    <tr>\n",
       "      <th>2</th>\n",
       "      <td>Maintenance or Facility</td>\n",
       "      <td>None</td>\n",
       "      <td>None</td>\n",
       "    </tr>\n",
       "    <tr>\n",
       "      <th>3</th>\n",
       "      <td>DCA / DOH New License Application Request</td>\n",
       "      <td>None</td>\n",
       "      <td>None</td>\n",
       "    </tr>\n",
       "    <tr>\n",
       "      <th>4</th>\n",
       "      <td>Consumer Complaint</td>\n",
       "      <td>None</td>\n",
       "      <td>None</td>\n",
       "    </tr>\n",
       "  </tbody>\n",
       "</table>\n",
       "</div>"
      ],
      "text/plain": [
       "                              Complaint Type Latitude Longitude\n",
       "0  DCA / DOH New License Application Request     None      None\n",
       "1                              Ferry Inquiry     None      None\n",
       "2                    Maintenance or Facility     None      None\n",
       "3  DCA / DOH New License Application Request     None      None\n",
       "4                         Consumer Complaint     None      None"
      ]
     },
     "execution_count": 121,
     "metadata": {},
     "output_type": "execute_result"
    }
   ],
   "source": [
    "comp_type = spark.sql(\"SELECT `Complaint Type`, Latitude, Longitude from df limit 1000\")\n",
    "# comp_type = comp_type.select(F.col('*'), comp_type.Latitude.cast('float'))\n",
    "# comp_type = comp_type.select(F.col('*'), comp_type.Longitude.cast('float'))\n",
    "ct = comp_type.toPandas()\n",
    "ct.head()"
   ]
  },
  {
   "cell_type": "code",
   "execution_count": 110,
   "metadata": {},
   "outputs": [
    {
     "name": "stdout",
     "output_type": "stream",
     "text": [
      "-73.976638730132\n",
      "-74.002117592825\n",
      "-73.728742151361\n",
      "-74.000526040593\n",
      "-73.95435384966\n",
      "-73.916977799538\n",
      "-73.896887434225\n",
      "-73.976638730132\n",
      "-73.902342276776\n",
      "-74.000526040593\n",
      "-74.000526040593\n",
      "-74.000526040593\n",
      "-74.000526040593\n",
      "-74.000526040593\n",
      "-73.953440732874\n",
      "-73.709552090395\n",
      "-73.709552090395\n",
      "-73.976638730132\n",
      "-73.916977799538\n",
      "-73.916977799538\n",
      "-73.988472383742\n",
      "-73.988472383742\n",
      "-73.976638730132\n",
      "-73.976638730132\n",
      "-73.976638730132\n",
      "-73.976638730132\n",
      "-73.777735932581\n",
      "-73.777735932581\n",
      "-73.902342276776\n",
      "-73.902342276776\n",
      "-73.961586113257\n",
      "-73.976638730132\n",
      "-73.976638730132\n",
      "-74.000526040593\n",
      "-73.995301463182\n",
      "-74.000526040593\n",
      "-73.976638730132\n",
      "-74.000526040593\n",
      "-74.000526040593\n",
      "-74.000526040593\n",
      "-74.000526040593\n",
      "-74.000526040593\n",
      "-74.000526040593\n",
      "-74.000526040593\n",
      "-74.000526040593\n",
      "-73.894018622264\n",
      "-73.961586113257\n",
      "-74.000526040593\n",
      "-73.799994243038\n",
      "-73.95185845305\n",
      "-73.976638730132\n",
      "-73.976638730132\n",
      "-73.935177980398\n",
      "-74.164818803046\n",
      "-73.976638730132\n",
      "-73.976638730132\n",
      "-73.777735932581\n",
      "-74.000526040593\n",
      "-73.960361727744\n",
      "-73.976638730132\n",
      "-73.997047972156\n",
      "-73.976638730132\n",
      "-73.753042277089\n",
      "-73.777735932581\n",
      "-73.866415043786\n",
      "-73.866415043786\n",
      "-73.837269598971\n",
      "-73.988472383742\n",
      "-73.988472383742\n",
      "-73.939838895191\n",
      "-74.065048164797\n",
      "-73.976638730132\n",
      "-73.976638730132\n",
      "-73.814635766024\n",
      "-73.976638730132\n",
      "-73.976638730132\n",
      "-73.976638730132\n",
      "-73.976638730132\n",
      "-73.976638730132\n",
      "-73.976638730132\n",
      "-73.953440732874\n",
      "-73.767220047052\n",
      "-73.976638730132\n",
      "-74.065048164797\n",
      "-73.976638730132\n",
      "-74.004054410407\n",
      "-74.000526040593\n",
      "-73.976638730132\n",
      "-73.894018622264\n",
      "-74.065048164797\n",
      "-73.976638730132\n",
      "-73.976638730132\n",
      "-73.976638730132\n",
      "-73.976638730132\n",
      "-73.820544282964\n",
      "-73.976638730132\n",
      "-73.976638730132\n",
      "-73.976638730132\n",
      "-73.976638730132\n",
      "-73.976638730132\n"
     ]
    },
    {
     "data": {
      "text/plain": [
       "[<shapely.geometry.point.Point at 0x11d1fe990>,\n",
       " <shapely.geometry.point.Point at 0x11d1fe9d0>,\n",
       " <shapely.geometry.point.Point at 0x11d1fe890>]"
      ]
     },
     "execution_count": 110,
     "metadata": {},
     "output_type": "execute_result"
    }
   ],
   "source": [
    "geometry = []\n",
    "for row in df.rdd.take(100):\n",
    "    print(row.Longitude)\n",
    "    geometry.append(Point([float(row.Longitude), float(row.Latitude)]))\n",
    "geometry[:3]"
   ]
  },
  {
   "cell_type": "code",
   "execution_count": 114,
   "metadata": {},
   "outputs": [
    {
     "ename": "ValueError",
     "evalue": "DataFrame constructor not properly called!",
     "output_type": "error",
     "traceback": [
      "\u001b[0;31m---------------------------------------------------------------------------\u001b[0m",
      "\u001b[0;31mValueError\u001b[0m                                Traceback (most recent call last)",
      "\u001b[0;32m<ipython-input-114-98cb32e0e84f>\u001b[0m in \u001b[0;36m<module>\u001b[0;34m\u001b[0m\n\u001b[0;32m----> 1\u001b[0;31m \u001b[0mgeo_df\u001b[0m \u001b[0;34m=\u001b[0m \u001b[0mgpd\u001b[0m\u001b[0;34m.\u001b[0m\u001b[0mGeoDataFrame\u001b[0m\u001b[0;34m(\u001b[0m\u001b[0mdf\u001b[0m\u001b[0;34m,\u001b[0m \u001b[0mcrs\u001b[0m\u001b[0;34m=\u001b[0m\u001b[0mcrs\u001b[0m\u001b[0;34m,\u001b[0m \u001b[0mgeometry\u001b[0m\u001b[0;34m=\u001b[0m\u001b[0mgeometry\u001b[0m\u001b[0;34m)\u001b[0m\u001b[0;34m\u001b[0m\u001b[0;34m\u001b[0m\u001b[0m\n\u001b[0m\u001b[1;32m      2\u001b[0m \u001b[0mgeo_df\u001b[0m\u001b[0;34m.\u001b[0m\u001b[0mhead\u001b[0m\u001b[0;34m(\u001b[0m\u001b[0;34m)\u001b[0m\u001b[0;34m\u001b[0m\u001b[0;34m\u001b[0m\u001b[0m\n\u001b[1;32m      3\u001b[0m \u001b[0;31m# fig,ax = plt.subplots(figsize=(15,15))\u001b[0m\u001b[0;34m\u001b[0m\u001b[0;34m\u001b[0m\u001b[0;34m\u001b[0m\u001b[0m\n\u001b[1;32m      4\u001b[0m \u001b[0;31m# street_map.plot(ax=ax, alpha=0.4, color=\"grey\")\u001b[0m\u001b[0;34m\u001b[0m\u001b[0;34m\u001b[0m\u001b[0;34m\u001b[0m\u001b[0m\n\u001b[1;32m      5\u001b[0m \u001b[0;31m# geo_df[geo_df[\"Complaint Type\"]==\"Noise\"].plot(ax=ax, markersize=20, color=\"blue\", marker='o, label=\"Noise\"')\u001b[0m\u001b[0;34m\u001b[0m\u001b[0;34m\u001b[0m\u001b[0;34m\u001b[0m\u001b[0m\n",
      "\u001b[0;32m~/anaconda3/lib/python3.7/site-packages/geopandas/geodataframe.py\u001b[0m in \u001b[0;36m__init__\u001b[0;34m(self, *args, **kwargs)\u001b[0m\n\u001b[1;32m     59\u001b[0m         \u001b[0mcrs\u001b[0m \u001b[0;34m=\u001b[0m \u001b[0mkwargs\u001b[0m\u001b[0;34m.\u001b[0m\u001b[0mpop\u001b[0m\u001b[0;34m(\u001b[0m\u001b[0;34m\"crs\"\u001b[0m\u001b[0;34m,\u001b[0m \u001b[0;32mNone\u001b[0m\u001b[0;34m)\u001b[0m\u001b[0;34m\u001b[0m\u001b[0;34m\u001b[0m\u001b[0m\n\u001b[1;32m     60\u001b[0m         \u001b[0mgeometry\u001b[0m \u001b[0;34m=\u001b[0m \u001b[0mkwargs\u001b[0m\u001b[0;34m.\u001b[0m\u001b[0mpop\u001b[0m\u001b[0;34m(\u001b[0m\u001b[0;34m\"geometry\"\u001b[0m\u001b[0;34m,\u001b[0m \u001b[0;32mNone\u001b[0m\u001b[0;34m)\u001b[0m\u001b[0;34m\u001b[0m\u001b[0;34m\u001b[0m\u001b[0m\n\u001b[0;32m---> 61\u001b[0;31m         \u001b[0msuper\u001b[0m\u001b[0;34m(\u001b[0m\u001b[0mGeoDataFrame\u001b[0m\u001b[0;34m,\u001b[0m \u001b[0mself\u001b[0m\u001b[0;34m)\u001b[0m\u001b[0;34m.\u001b[0m\u001b[0m__init__\u001b[0m\u001b[0;34m(\u001b[0m\u001b[0;34m*\u001b[0m\u001b[0margs\u001b[0m\u001b[0;34m,\u001b[0m \u001b[0;34m**\u001b[0m\u001b[0mkwargs\u001b[0m\u001b[0;34m)\u001b[0m\u001b[0;34m\u001b[0m\u001b[0;34m\u001b[0m\u001b[0m\n\u001b[0m\u001b[1;32m     62\u001b[0m \u001b[0;34m\u001b[0m\u001b[0m\n\u001b[1;32m     63\u001b[0m         \u001b[0;31m# need to set this before calling self['geometry'], because\u001b[0m\u001b[0;34m\u001b[0m\u001b[0;34m\u001b[0m\u001b[0;34m\u001b[0m\u001b[0m\n",
      "\u001b[0;32m~/anaconda3/lib/python3.7/site-packages/pandas/core/frame.py\u001b[0m in \u001b[0;36m__init__\u001b[0;34m(self, data, index, columns, dtype, copy)\u001b[0m\n\u001b[1;32m    483\u001b[0m                 )\n\u001b[1;32m    484\u001b[0m             \u001b[0;32melse\u001b[0m\u001b[0;34m:\u001b[0m\u001b[0;34m\u001b[0m\u001b[0;34m\u001b[0m\u001b[0m\n\u001b[0;32m--> 485\u001b[0;31m                 \u001b[0;32mraise\u001b[0m \u001b[0mValueError\u001b[0m\u001b[0;34m(\u001b[0m\u001b[0;34m\"DataFrame constructor not properly called!\"\u001b[0m\u001b[0;34m)\u001b[0m\u001b[0;34m\u001b[0m\u001b[0;34m\u001b[0m\u001b[0m\n\u001b[0m\u001b[1;32m    486\u001b[0m \u001b[0;34m\u001b[0m\u001b[0m\n\u001b[1;32m    487\u001b[0m         \u001b[0mNDFrame\u001b[0m\u001b[0;34m.\u001b[0m\u001b[0m__init__\u001b[0m\u001b[0;34m(\u001b[0m\u001b[0mself\u001b[0m\u001b[0;34m,\u001b[0m \u001b[0mmgr\u001b[0m\u001b[0;34m,\u001b[0m \u001b[0mfastpath\u001b[0m\u001b[0;34m=\u001b[0m\u001b[0;32mTrue\u001b[0m\u001b[0;34m)\u001b[0m\u001b[0;34m\u001b[0m\u001b[0;34m\u001b[0m\u001b[0m\n",
      "\u001b[0;31mValueError\u001b[0m: DataFrame constructor not properly called!"
     ]
    }
   ],
   "source": [
    "geo_df = gpd.GeoDataFrame(df, crs=crs, geometry=geometry)\n",
    "geo_df.head()\n",
    "# fig,ax = plt.subplots(figsize=(15,15))\n",
    "# street_map.plot(ax=ax, alpha=0.4, color=\"grey\")\n",
    "# geo_df[geo_df[\"Complaint Type\"]==\"Noise\"].plot(ax=ax, markersize=20, color=\"blue\", marker='o, label=\"Noise\"')"
   ]
  },
  {
   "cell_type": "code",
   "execution_count": null,
   "metadata": {},
   "outputs": [],
   "source": []
  }
 ],
 "metadata": {
  "kernelspec": {
   "display_name": "Python 3",
   "language": "python",
   "name": "python3"
  },
  "language_info": {
   "codemirror_mode": {
    "name": "ipython",
    "version": 3
   },
   "file_extension": ".py",
   "mimetype": "text/x-python",
   "name": "python",
   "nbconvert_exporter": "python",
   "pygments_lexer": "ipython3",
   "version": "3.7.5"
  }
 },
 "nbformat": 4,
 "nbformat_minor": 2
}
