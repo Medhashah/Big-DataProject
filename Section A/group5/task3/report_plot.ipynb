{
 "cells": [
  {
   "cell_type": "code",
   "execution_count": 1,
   "metadata": {},
   "outputs": [],
   "source": [
    "import sys\n",
    "import string\n",
    "import matplotlib.pyplot as plt\n",
    "import numpy as np\n",
    "import json\n",
    "\n",
    "# Global Variables\n",
    "datatype_count = {\n",
    "    'text': 0,\n",
    "    'date': 0,\n",
    "    'int': 0,\n",
    "    'real': 0\n",
    "}\n",
    "type_label = [\"DATE/TIME\", \"TEXT\", \"INTEGER (LONG)\", \"REAL\"]"
   ]
  },
  {
   "cell_type": "code",
   "execution_count": 2,
   "metadata": {},
   "outputs": [],
   "source": [
    "def get_dataset_meta(dataset_name):\n",
    "    with open(dataset_name, 'r') as fin:\n",
    "        dataset = json.load(fin)\n",
    "        \n",
    "        num_columns = len(dataset['columns'])\n",
    "        num_sparse_col = 0\n",
    "        if 'columns' in dataset:\n",
    "            for col in dataset['columns']:\n",
    "                # Type Count\n",
    "                get_type_count(col)\n",
    "                # Sparcity\n",
    "                # fill_ratio = get_sparcity_score(col)\n",
    "                #if fill_ratio > 0.5 :\n",
    "                    # this column is less than half-filled\n",
    "                #    num_sparse_col += 1\n",
    "                # Cleanliness\n",
    "        else:\n",
    "            print(f\"dataset {dataset_name} doesn't have columns!\\n\")\n"
   ]
  },
  {
   "cell_type": "code",
   "execution_count": 3,
   "metadata": {},
   "outputs": [],
   "source": [
    "def get_type_count(col):\n",
    "    global datatype_count, type_label\n",
    "    for type_meta in col['data_types']: # array\n",
    "        if type_meta['type'] == type_label[0]:\n",
    "            datatype_count['date'] += type_meta['count']\n",
    "        elif type_meta['type'] == type_label[1]:\n",
    "            datatype_count['text'] += type_meta['count']\n",
    "        elif type_meta['type'] == type_label[2]:\n",
    "            datatype_count['int'] += type_meta['count']\n",
    "        elif type_meta['type'] == type_label[3]:\n",
    "            datatype_count['real'] += type_meta['count']"
   ]
  },
  {
   "cell_type": "code",
   "execution_count": 4,
   "metadata": {},
   "outputs": [],
   "source": [
    "def get_sparcity_score(col):\n",
    "    # Calculating Sparcity\n",
    "    # Note: Definition of sparcity of dataset\n",
    "    # There are two possible \"sparcity\" for a given dataset:\n",
    "    #  1. Many fully-filled columns + many empty columns\n",
    "    #  2. Most columns are half-filled\n",
    "    # Here for the first case, we do not regard it as a \"sparse\" dataset\n",
    "    # since its empty columns can be easily removed, making it a dense matrix;\n",
    "    # thus only the second case is regard as \"sparse\" dataset since we can not \n",
    "    # really remove any of its columns\n",
    "    num_non_empty_cells = col['number_non_empty_cells']\n",
    "    num_empty_cells = col['number_empty_cells']\n",
    "    fill_ratio = num_empty_cells / (num_empty_cells + num_non_empty_cells)\n",
    "    return fill_ratio"
   ]
  },
  {
   "cell_type": "code",
   "execution_count": 5,
   "metadata": {},
   "outputs": [],
   "source": [
    "def get_cleanliness_score(col):\n",
    "    # Calculate dataset cleaness\n",
    "    # Note: Definition of cleaness of dataset\n",
    "    # Normally, a correctly filled column should belong to one specific datatype.\n",
    "    # That is, a column should either be text or integer, not both. So if a column\n",
    "    # has values of more than one data type, it's possible that the column is \n",
    "    # not correctly filled, especially if the ratio of number of values of each type\n",
    "    # is not low. \n",
    "    num_data_types = len(col['data_types'])\n",
    "    if num_data_types > 1:\n",
    "        pass\n",
    "        #for dt in col['data_types']:\n",
    "    else:\n",
    "        return 1"
   ]
  },
  {
   "cell_type": "code",
   "execution_count": 6,
   "metadata": {},
   "outputs": [],
   "source": [
    "# init file path\n",
    "# \n",
    "from os import listdir\n",
    "from os.path import isfile, join\n",
    "path = './result'\n",
    "dataset_names = [join(path,f) for f in listdir(path) if isfile(join(path,f))]"
   ]
  },
  {
   "cell_type": "code",
   "execution_count": 13,
   "metadata": {},
   "outputs": [
    {
     "data": {
      "image/png": "[encoded data removed]",
      "text/plain": [
       "<Figure size 432x288 with 1 Axes>"
      ]
     },
     "metadata": {
      "needs_background": "light"
     },
     "output_type": "display_data"
    }
   ],
   "source": [
    "# main pipeline\n",
    "\n",
    "for dataset_name in dataset_names:\n",
    "    if dataset_name.split('.')[-1] == 'json':\n",
    "        get_dataset_meta(dataset_name)\n",
    "\n",
    "# Q1 - for each data type, how many columns contain that type?\n",
    "# Possible types: [DATE/TIME, TEXT, INTEGER, REAL,]\n",
    "# Use bar graph\n",
    "global datatype_count, type_label\n",
    "x = type_label\n",
    "y = list(datatype_count.values())\n",
    "fig, ax = plt.subplots()\n",
    "ax.bar(x, y)\n",
    "ax.set_title(\"Column Count for Each Datatypes\")\n",
    "ax.set_xlabel('Column count')\n",
    "ax.set_ylabel('Datatype')\n",
    "ax.get_yaxis().get_major_formatter().set_useOffset(False)\n",
    "ax.get_yaxis().get_major_formatter().set_scientific(False)\n",
    "plt.show()\n"
   ]
  },
  {
   "cell_type": "code",
   "execution_count": null,
   "metadata": {},
   "outputs": [],
   "source": [
    "# Q2 - type associations\n"
   ]
  }
 ],
 "metadata": {
  "kernelspec": {
   "display_name": "Python 3",
   "language": "python",
   "name": "python3"
  },
  "language_info": {
   "codemirror_mode": {
    "name": "ipython",
    "version": 3
   },
   "file_extension": ".py",
   "mimetype": "text/x-python",
   "name": "python",
   "nbconvert_exporter": "python",
   "pygments_lexer": "ipython3",
   "version": "3.7.4"
  }
 },
 "nbformat": 4,
 "nbformat_minor": 2
}
