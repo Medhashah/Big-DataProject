{
 "cells": [
  {
   "cell_type": "code",
   "execution_count": 1,
   "metadata": {},
   "outputs": [],
   "source": [
    "from pyspark import SparkContext, RDD\n",
    "from pyspark.sql import SparkSession\n",
    "from pyspark.sql.functions import *\n",
    "from pyspark.sql.types import StringType\n",
    "from itertools import chain\n",
    "import csv\n",
    "import pandas as pd\n",
    "import numpy as numpy\n",
    "import json\n",
    "import string"
   ]
  },
  {
   "cell_type": "code",
   "execution_count": 2,
   "metadata": {},
   "outputs": [],
   "source": [
    "# Init PySpark context\n",
    "sc = SparkContext()\n",
    "spark = SparkSession.builder.appName(\"final_p3\").config(\"spark.some.config.option\", \"some-value\").getOrCreate()"
   ]
  },
  {
   "cell_type": "code",
   "execution_count": 3,
   "metadata": {},
   "outputs": [],
   "source": [
    "# Get Datasets (local version)\n",
    "dataset_prefix = \"311_Service_Requests_\"\n",
    "dataset_label = [\"for_2004\", \"for_2005\", \"for_2006\", \"for_2007\", \"for_2008\", \"for_2009\", \"from_2010_to_Present\"]\n",
    "dataset_names = [dataset_prefix + i + '.csv' for i in dataset_label]\n",
    "# print(dataset_names)"
   ]
  },
  {
   "cell_type": "code",
   "execution_count": 7,
   "metadata": {
    "collapsed": true
   },
   "outputs": [
    {
     "name": "stdout",
     "output_type": "stream",
     "text": [
      "{\"10001\": \"MANHATTAN\", \"10451\": \"BRONX\", \"10002\": \"MANHATTAN\", \"10452\": \"BRONX\", \"10003\": \"MANHATTAN\", \"10453\": \"BRONX\", \"10004\": \"MANHATTAN\", \"10454\": \"BRONX\", \"10005\": \"MANHATTAN\", \"10455\": \"BRONX\", \"10006\": \"MANHATTAN\", \"10456\": \"BRONX\", \"10007\": \"MANHATTAN\", \"10457\": \"BRONX\", \"10009\": \"MANHATTAN\", \"10458\": \"BRONX\", \"10010\": \"MANHATTAN\", \"10459\": \"BRONX\", \"10011\": \"MANHATTAN\", \"10460\": \"BRONX\", \"10012\": \"MANHATTAN\", \"10461\": \"BRONX\", \"10013\": \"MANHATTAN\", \"10462\": \"BRONX\", \"10014\": \"MANHATTAN\", \"10463\": \"BRONX\", \"10015\": \"MANHATTAN\", \"10464\": \"BRONX\", \"10016\": \"MANHATTAN\", \"10465\": \"BRONX\", \"10017\": \"MANHATTAN\", \"10466\": \"BRONX\", \"10018\": \"MANHATTAN\", \"10467\": \"BRONX\", \"10019\": \"MANHATTAN\", \"10468\": \"BRONX\", \"10020\": \"MANHATTAN\", \"10469\": \"BRONX\", \"10021\": \"MANHATTAN\", \"10470\": \"BRONX\", \"10022\": \"MANHATTAN\", \"10471\": \"BRONX\", \"10023\": \"MANHATTAN\", \"10472\": \"BRONX\", \"10024\": \"MANHATTAN\", \"10473\": \"BRONX\", \"10025\": \"MANHATTAN\", \"10474\": \"BRONX\", \"10026\": \"MANHATTAN\", \"10475\": \"BRONX\", \"10027\": \"MANHATTAN\", \"11201\": \"BROOKLYN\", \"10028\": \"MANHATTAN\", \"11203\": \"BROOKLYN\", \"10029\": \"MANHATTAN\", \"11204\": \"BROOKLYN\", \"10030\": \"MANHATTAN\", \"11205\": \"BROOKLYN\", \"10031\": \"MANHATTAN\", \"11206\": \"BROOKLYN\", \"10032\": \"MANHATTAN\", \"11207\": \"BROOKLYN\", \"10033\": \"MANHATTAN\", \"11208\": \"BROOKLYN\", \"10034\": \"MANHATTAN\", \"11209\": \"BROOKLYN\", \"10035\": \"MANHATTAN\", \"11210\": \"BROOKLYN\", \"10036\": \"MANHATTAN\", \"11211\": \"BROOKLYN\", \"10037\": \"MANHATTAN\", \"11212\": \"BROOKLYN\", \"10038\": \"MANHATTAN\", \"11213\": \"BROOKLYN\", \"10039\": \"MANHATTAN\", \"11214\": \"BROOKLYN\", \"10040\": \"MANHATTAN\", \"11215\": \"BROOKLYN\", \"10041\": \"MANHATTAN\", \"11216\": \"BROOKLYN\", \"10044\": \"MANHATTAN\", \"11217\": \"BROOKLYN\", \"10045\": \"MANHATTAN\", \"11218\": \"BROOKLYN\", \"10048\": \"MANHATTAN\", \"11219\": \"BROOKLYN\", \"10055\": \"MANHATTAN\", \"11220\": \"BROOKLYN\", \"10060\": \"MANHATTAN\", \"11221\": \"BROOKLYN\", \"10069\": \"MANHATTAN\", \"11222\": \"BROOKLYN\", \"10090\": \"MANHATTAN\", \"11223\": \"BROOKLYN\", \"10095\": \"MANHATTAN\", \"11224\": \"BROOKLYN\", \"10098\": \"MANHATTAN\", \"11225\": \"BROOKLYN\", \"10099\": \"MANHATTAN\", \"11226\": \"BROOKLYN\", \"10103\": \"MANHATTAN\", \"11228\": \"BROOKLYN\", \"10104\": \"MANHATTAN\", \"11229\": \"BROOKLYN\", \"10105\": \"MANHATTAN\", \"11230\": \"BROOKLYN\", \"10106\": \"MANHATTAN\", \"11231\": \"BROOKLYN\", \"10107\": \"MANHATTAN\", \"11232\": \"BROOKLYN\", \"10110\": \"MANHATTAN\", \"11233\": \"BROOKLYN\", \"10111\": \"MANHATTAN\", \"11234\": \"BROOKLYN\", \"10112\": \"MANHATTAN\", \"11235\": \"BROOKLYN\", \"10115\": \"MANHATTAN\", \"11236\": \"BROOKLYN\", \"10118\": \"MANHATTAN\", \"11237\": \"BROOKLYN\", \"10119\": \"MANHATTAN\", \"11238\": \"BROOKLYN\", \"10120\": \"MANHATTAN\", \"11239\": \"BROOKLYN\", \"10121\": \"MANHATTAN\", \"11241\": \"BROOKLYN\", \"10122\": \"MANHATTAN\", \"11242\": \"BROOKLYN\", \"10123\": \"MANHATTAN\", \"11243\": \"BROOKLYN\", \"10128\": \"MANHATTAN\", \"11249\": \"BROOKLYN\", \"10151\": \"MANHATTAN\", \"11252\": \"BROOKLYN\", \"10152\": \"MANHATTAN\", \"11256\": \"BROOKLYN\", \"10153\": \"MANHATTAN\", \"10154\": \"MANHATTAN\", \"10155\": \"MANHATTAN\", \"10158\": \"MANHATTAN\", \"10161\": \"MANHATTAN\", \"10162\": \"MANHATTAN\", \"10165\": \"MANHATTAN\", \"10166\": \"MANHATTAN\", \"10167\": \"MANHATTAN\", \"10168\": \"MANHATTAN\", \"10169\": \"MANHATTAN\", \"10170\": \"MANHATTAN\", \"10171\": \"MANHATTAN\", \"10172\": \"MANHATTAN\", \"10173\": \"MANHATTAN\", \"10174\": \"MANHATTAN\", \"10175\": \"MANHATTAN\", \"10176\": \"MANHATTAN\", \"10177\": \"MANHATTAN\", \"10178\": \"MANHATTAN\", \"10199\": \"MANHATTAN\", \"10270\": \"MANHATTAN\", \"10271\": \"MANHATTAN\", \"10278\": \"MANHATTAN\", \"10279\": \"MANHATTAN\", \"10280\": \"MANHATTAN\", \"10281\": \"MANHATTAN\", \"10282\": \"MANHATTAN\", \"10301\": \"STATEN ISLAND\", \"10302\": \"STATEN ISLAND\", \"10303\": \"STATEN ISLAND\", \"10304\": \"STATEN ISLAND\", \"10305\": \"STATEN ISLAND\", \"10306\": \"STATEN ISLAND\", \"10307\": \"STATEN ISLAND\", \"10308\": \"STATEN ISLAND\", \"10309\": \"STATEN ISLAND\", \"10310\": \"STATEN ISLAND\", \"10311\": \"STATEN ISLAND\", \"10312\": \"STATEN ISLAND\", \"10314\": \"STATEN ISLAND\", \"11004\": \"QUEENS\", \"11101\": \"QUEENS\", \"11102\": \"QUEENS\", \"11103\": \"QUEENS\", \"11104\": \"QUEENS\", \"11105\": \"QUEENS\", \"11106\": \"QUEENS\", \"11109\": \"QUEENS\", \"11351\": \"QUEENS\", \"11354\": \"QUEENS\", \"11355\": \"QUEENS\", \"11356\": \"QUEENS\", \"11357\": \"QUEENS\", \"11358\": \"QUEENS\", \"11359\": \"QUEENS\", \"11360\": \"QUEENS\", \"11361\": \"QUEENS\", \"11362\": \"QUEENS\", \"11363\": \"QUEENS\", \"11364\": \"QUEENS\", \"11365\": \"QUEENS\", \"11366\": \"QUEENS\", \"11367\": \"QUEENS\", \"11368\": \"QUEENS\", \"11369\": \"QUEENS\", \"11370\": \"QUEENS\", \"11371\": \"QUEENS\", \"11372\": \"QUEENS\", \"11373\": \"QUEENS\", \"11374\": \"QUEENS\", \"11375\": \"QUEENS\", \"11377\": \"QUEENS\", \"11378\": \"QUEENS\", \"11379\": \"QUEENS\", \"11385\": \"QUEENS\", \"11411\": \"QUEENS\", \"11412\": \"QUEENS\", \"11413\": \"QUEENS\", \"11414\": \"QUEENS\", \"11415\": \"QUEENS\", \"11416\": \"QUEENS\", \"11417\": \"QUEENS\", \"11418\": \"QUEENS\", \"11419\": \"QUEENS\", \"11420\": \"QUEENS\", \"11421\": \"QUEENS\", \"11422\": \"QUEENS\", \"11423\": \"QUEENS\", \"11426\": \"QUEENS\", \"11427\": \"QUEENS\", \"11428\": \"QUEENS\", \"11429\": \"QUEENS\", \"11430\": \"QUEENS\", \"11432\": \"QUEENS\", \"11433\": \"QUEENS\", \"11434\": \"QUEENS\", \"11435\": \"QUEENS\", \"11436\": \"QUEENS\", \"11691\": \"QUEENS\", \"11692\": \"QUEENS\", \"11693\": \"QUEENS\", \"11694\": \"QUEENS\", \"11697\": \"QUEENS\", \"null\": \"Unspecified\"}\n"
     ]
    }
   ],
   "source": [
    "# Import Zipcode-Borough maps\n",
    "# The zip map is relatively small(7kb), so store a seperate copy in each node\n",
    "\n",
    "zip_borough_dir = \"zip_borough.csv\" # relatively small: 7kb\n",
    "zip_borough_dict = {}\n",
    "with open (zip_borough_dir, newline='') as zip_borough_csv:\n",
    "    zip_reader = csv.DictReader(zip_borough_csv, ['zip', 'borough'])\n",
    "    for row in zip_reader:\n",
    "        if row['borough'] == \"Staten\":\n",
    "            zip_borough_dict[row['zip']] = \"STATEN ISLAND\"\n",
    "        else:\n",
    "            zip_borough_dict[row['zip']] = row['borough'].upper()\n",
    "zip_borough_dict['null'] = 'Unspecified'\n",
    "# test\n",
    "print(json.dumps(zip_borough_dict))"
   ]
  },
  {
   "cell_type": "code",
   "execution_count": 5,
   "metadata": {
    "collapsed": true
   },
   "outputs": [
    {
     "name": "stdout",
     "output_type": "stream",
     "text": [
      "+--------------------+--------------------+------------+-------------+-------------+\n",
      "|        Created Date|      Complaint Type|Incident Zip|         City|      Borough|\n",
      "+--------------------+--------------------+------------+-------------+-------------+\n",
      "|04/02/2004 12:00:...|DCA / DOH New Lic...|        null|         null|  Unspecified|\n",
      "|04/02/2004 12:00:...|DCA / DOH New Lic...|        null|         null|  Unspecified|\n",
      "|04/06/2004 12:00:...|Street Sign - Dam...|       10306|STATEN ISLAND|STATEN ISLAND|\n",
      "|04/06/2004 12:00:...|      Taxi Complaint|        null|     BROOKLYN|     BROOKLYN|\n",
      "|04/06/2004 12:00:...|    Street Condition|        null|         null|     BROOKLYN|\n",
      "|04/06/2004 12:00:...|Street Sign - Dam...|       11207|     BROOKLYN|     BROOKLYN|\n",
      "|09/01/2004 12:00:...|Street Sign - Dam...|        null|         null|STATEN ISLAND|\n",
      "|04/06/2004 12:00:...|    Street Condition|        null|         null|     BROOKLYN|\n",
      "|04/09/2004 12:00:...|DCA / DOH New Lic...|        null|         null|  Unspecified|\n",
      "|04/11/2004 12:00:...|   Highway Condition|        null|         null|        BRONX|\n",
      "|04/09/2004 12:00:...|    Street Condition|        null|         null|STATEN ISLAND|\n",
      "|04/09/2004 12:00:...|            Drinking|       11208|     BROOKLYN|     BROOKLYN|\n",
      "|04/09/2004 12:00:...|     Taxi Compliment|        null|         null|  Unspecified|\n",
      "|04/06/2004 12:00:...|Street Sign - Dam...|       11239|     BROOKLYN|     BROOKLYN|\n",
      "|04/26/2004 12:00:...|DCA / DOH New Lic...|        null|         null|  Unspecified|\n",
      "|04/27/2004 12:00:...|Street Sign - Dam...|        null|         null|STATEN ISLAND|\n",
      "|04/18/2004 12:00:...|     Taxi Compliment|        null|         null|  Unspecified|\n",
      "|04/06/2004 12:00:...| Homeless Encampment|       11203|     BROOKLYN|     BROOKLYN|\n",
      "|04/22/2004 12:00:...|DCA / DOH New Lic...|        null|         null|  Unspecified|\n",
      "|04/13/2004 12:00:...|TLC Medallion Req...|        null|         null|  Unspecified|\n",
      "|04/28/2004 12:00:...|     Taxi Compliment|        null|         null|  Unspecified|\n",
      "|04/28/2004 12:00:...|   Highway Condition|        null|         null|    MANHATTAN|\n",
      "|04/23/2004 12:00:...|Teaching/Learning...|        null|         null|  Unspecified|\n",
      "|04/23/2004 12:00:...|   Highway Condition|        null|         null|    MANHATTAN|\n",
      "|04/02/2004 12:00:...|      Taxi Complaint|        null|         null|    MANHATTAN|\n",
      "|04/23/2004 12:00:...|     Taxi Compliment|        null|         null|  Unspecified|\n",
      "|04/22/2004 12:00:...|DCA / DOH New Lic...|        null|         null|  Unspecified|\n",
      "|04/22/2004 12:00:...|DCA / DOH New Lic...|        null|         null|  Unspecified|\n",
      "|04/13/2004 12:00:...|TLC Medallion Req...|        null|         null|  Unspecified|\n",
      "|04/06/2004 12:00:...|            Drinking|       10302|STATEN ISLAND|STATEN ISLAND|\n",
      "|04/07/2004 12:00:...|TLC Medallion Req...|        null|         null|  Unspecified|\n",
      "|04/07/2004 12:00:...|    Street Condition|        null|         null|       QUEENS|\n",
      "|06/15/2004 12:00:...|Street Sign - Dam...|        null|         null|    MANHATTAN|\n",
      "|04/06/2004 12:00:...|   Highway Condition|        null|         null|        BRONX|\n",
      "|04/06/2004 12:00:...|   Highway Condition|        null|         null|        BRONX|\n",
      "|04/01/2004 12:00:...|      Taxi Complaint|        null|         null|    MANHATTAN|\n",
      "|04/07/2004 12:00:...|TLC Medallion Req...|        null|         null|  Unspecified|\n",
      "|04/06/2004 12:00:...|    Street Condition|        null|         null|       QUEENS|\n",
      "|04/20/2004 12:00:...|    Street Condition|        null|         null|    MANHATTAN|\n",
      "|04/01/2004 12:00:...|     Taxi Compliment|        null|         null|  Unspecified|\n",
      "|04/05/2004 12:00:...|      Taxi Complaint|        null|         null|       QUEENS|\n",
      "|04/04/2004 12:00:...|   Highway Condition|        null|         null|       QUEENS|\n",
      "|04/28/2004 12:00:...|DCA / DOH New Lic...|        null|         null|  Unspecified|\n",
      "|04/07/2004 12:00:...|    Street Condition|        null|       QUEENS|       QUEENS|\n",
      "|05/05/2004 12:00:...|DCA / DOH New Lic...|        null|         null|  Unspecified|\n",
      "|05/16/2004 12:00:...|   Highway Condition|        null|         null|        BRONX|\n",
      "|04/01/2004 12:00:...|TLC Medallion Req...|        null|         null|  Unspecified|\n",
      "|04/12/2004 12:00:...|     Taxi Compliment|        null|         null|  Unspecified|\n",
      "|04/28/2004 12:00:...|DCA / DOH New Lic...|        null|         null|  Unspecified|\n",
      "|04/27/2004 12:00:...|DCA / DOH New Lic...|        null|         null|  Unspecified|\n",
      "+--------------------+--------------------+------------+-------------+-------------+\n",
      "only showing top 50 rows\n",
      "\n"
     ]
    }
   ],
   "source": [
    "# Load main datasets\n",
    "df_full_list = []\n",
    "df_part_list = []\n",
    "\n",
    "for dataset in dataset_names:\n",
    "    df = spark.read.csv(dataset, header=True)\n",
    "    df_part = df.select(\"Created Date\",\"Complaint Type\", \"Incident Zip\", \"City\", \"Borough\")\n",
    "    df_full_list.append(df)\n",
    "    df_part_list.append(df_part)\n",
    "# test\n",
    "df_part_list[0].show(50)\n"
   ]
  },
  {
   "cell_type": "code",
   "execution_count": 15,
   "metadata": {
    "collapsed": true
   },
   "outputs": [
    {
     "name": "stdout",
     "output_type": "stream",
     "text": [
      "+--------------------+--------------------+------------+-------------+-------------+-------------+\n",
      "|        Created Date|      Complaint Type|Incident Zip|         City|      Borough|     Borough2|\n",
      "+--------------------+--------------------+------------+-------------+-------------+-------------+\n",
      "|04/02/2004 12:00:...|DCA / DOH New Lic...|        null|         null|  Unspecified|  Unspecified|\n",
      "|04/02/2004 12:00:...|DCA / DOH New Lic...|        null|         null|  Unspecified|  Unspecified|\n",
      "|04/06/2004 12:00:...|Street Sign - Dam...|       10306|STATEN ISLAND|STATEN ISLAND|STATEN ISLAND|\n",
      "|04/06/2004 12:00:...|      Taxi Complaint|        null|     BROOKLYN|     BROOKLYN|     BROOKLYN|\n",
      "|04/06/2004 12:00:...|    Street Condition|        null|         null|     BROOKLYN|     BROOKLYN|\n",
      "|04/06/2004 12:00:...|Street Sign - Dam...|       11207|     BROOKLYN|     BROOKLYN|     BROOKLYN|\n",
      "|09/01/2004 12:00:...|Street Sign - Dam...|        null|         null|STATEN ISLAND|STATEN ISLAND|\n",
      "|04/06/2004 12:00:...|    Street Condition|        null|         null|     BROOKLYN|     BROOKLYN|\n",
      "|04/09/2004 12:00:...|DCA / DOH New Lic...|        null|         null|  Unspecified|  Unspecified|\n",
      "|04/11/2004 12:00:...|   Highway Condition|        null|         null|        BRONX|        BRONX|\n",
      "|04/09/2004 12:00:...|    Street Condition|        null|         null|STATEN ISLAND|STATEN ISLAND|\n",
      "|04/09/2004 12:00:...|            Drinking|       11208|     BROOKLYN|     BROOKLYN|     BROOKLYN|\n",
      "|04/09/2004 12:00:...|     Taxi Compliment|        null|         null|  Unspecified|  Unspecified|\n",
      "|04/06/2004 12:00:...|Street Sign - Dam...|       11239|     BROOKLYN|     BROOKLYN|     BROOKLYN|\n",
      "|04/26/2004 12:00:...|DCA / DOH New Lic...|        null|         null|  Unspecified|  Unspecified|\n",
      "|04/27/2004 12:00:...|Street Sign - Dam...|        null|         null|STATEN ISLAND|STATEN ISLAND|\n",
      "|04/18/2004 12:00:...|     Taxi Compliment|        null|         null|  Unspecified|  Unspecified|\n",
      "|04/06/2004 12:00:...| Homeless Encampment|       11203|     BROOKLYN|     BROOKLYN|     BROOKLYN|\n",
      "|04/22/2004 12:00:...|DCA / DOH New Lic...|        null|         null|  Unspecified|  Unspecified|\n",
      "|04/13/2004 12:00:...|TLC Medallion Req...|        null|         null|  Unspecified|  Unspecified|\n",
      "|04/28/2004 12:00:...|     Taxi Compliment|        null|         null|  Unspecified|  Unspecified|\n",
      "|04/28/2004 12:00:...|   Highway Condition|        null|         null|    MANHATTAN|    MANHATTAN|\n",
      "|04/23/2004 12:00:...|Teaching/Learning...|        null|         null|  Unspecified|  Unspecified|\n",
      "|04/23/2004 12:00:...|   Highway Condition|        null|         null|    MANHATTAN|    MANHATTAN|\n",
      "|04/02/2004 12:00:...|      Taxi Complaint|        null|         null|    MANHATTAN|    MANHATTAN|\n",
      "|04/23/2004 12:00:...|     Taxi Compliment|        null|         null|  Unspecified|  Unspecified|\n",
      "|04/22/2004 12:00:...|DCA / DOH New Lic...|        null|         null|  Unspecified|  Unspecified|\n",
      "|04/22/2004 12:00:...|DCA / DOH New Lic...|        null|         null|  Unspecified|  Unspecified|\n",
      "|04/13/2004 12:00:...|TLC Medallion Req...|        null|         null|  Unspecified|  Unspecified|\n",
      "|04/06/2004 12:00:...|            Drinking|       10302|STATEN ISLAND|STATEN ISLAND|STATEN ISLAND|\n",
      "|04/07/2004 12:00:...|TLC Medallion Req...|        null|         null|  Unspecified|  Unspecified|\n",
      "|04/07/2004 12:00:...|    Street Condition|        null|         null|       QUEENS|       QUEENS|\n",
      "|06/15/2004 12:00:...|Street Sign - Dam...|        null|         null|    MANHATTAN|    MANHATTAN|\n",
      "|04/06/2004 12:00:...|   Highway Condition|        null|         null|        BRONX|        BRONX|\n",
      "|04/06/2004 12:00:...|   Highway Condition|        null|         null|        BRONX|        BRONX|\n",
      "|04/01/2004 12:00:...|      Taxi Complaint|        null|         null|    MANHATTAN|    MANHATTAN|\n",
      "|04/07/2004 12:00:...|TLC Medallion Req...|        null|         null|  Unspecified|  Unspecified|\n",
      "|04/06/2004 12:00:...|    Street Condition|        null|         null|       QUEENS|       QUEENS|\n",
      "|04/20/2004 12:00:...|    Street Condition|        null|         null|    MANHATTAN|    MANHATTAN|\n",
      "|04/01/2004 12:00:...|     Taxi Compliment|        null|         null|  Unspecified|  Unspecified|\n",
      "|04/05/2004 12:00:...|      Taxi Complaint|        null|         null|       QUEENS|       QUEENS|\n",
      "|04/04/2004 12:00:...|   Highway Condition|        null|         null|       QUEENS|       QUEENS|\n",
      "|04/28/2004 12:00:...|DCA / DOH New Lic...|        null|         null|  Unspecified|  Unspecified|\n",
      "|04/07/2004 12:00:...|    Street Condition|        null|       QUEENS|       QUEENS|       QUEENS|\n",
      "|05/05/2004 12:00:...|DCA / DOH New Lic...|        null|         null|  Unspecified|  Unspecified|\n",
      "|05/16/2004 12:00:...|   Highway Condition|        null|         null|        BRONX|        BRONX|\n",
      "|04/01/2004 12:00:...|TLC Medallion Req...|        null|         null|  Unspecified|  Unspecified|\n",
      "|04/12/2004 12:00:...|     Taxi Compliment|        null|         null|  Unspecified|  Unspecified|\n",
      "|04/28/2004 12:00:...|DCA / DOH New Lic...|        null|         null|  Unspecified|  Unspecified|\n",
      "|04/27/2004 12:00:...|DCA / DOH New Lic...|        null|         null|  Unspecified|  Unspecified|\n",
      "+--------------------+--------------------+------------+-------------+-------------+-------------+\n",
      "only showing top 50 rows\n",
      "\n"
     ]
    }
   ],
   "source": [
    "# Try to fill the borough column of each cell\n",
    "zip_brgh_map = create_map([lit(x) for x in chain(*zip_borough_dict.items())])    \n",
    "for df in df_part_list:\n",
    "    df = df.withColumn(\"Borough2\", when((col('Incident Zip') != 'null') & (col('Borough') == 'Unspecified'), zip_brgh_map.getItem(col('Incident Zip'))).otherwise(col('Borough')))"
   ]
  },
  {
   "cell_type": "code",
   "execution_count": 24,
   "metadata": {
    "collapsed": true
   },
   "outputs": [
    {
     "ename": "KeyboardInterrupt",
     "evalue": "",
     "output_type": "error",
     "traceback": [
      "\u001b[0;31m---------------------------------------------------------------------------\u001b[0m",
      "\u001b[0;31mKeyboardInterrupt\u001b[0m                         Traceback (most recent call last)",
      "\u001b[0;32m<ipython-input-24-4a36e6194086>\u001b[0m in \u001b[0;36m<module>\u001b[0;34m\u001b[0m\n\u001b[1;32m      8\u001b[0m         \u001b[0;34m\"qu\"\u001b[0m \u001b[0;34m:\u001b[0m \u001b[0mdf\u001b[0m\u001b[0;34m.\u001b[0m\u001b[0mfilter\u001b[0m\u001b[0;34m(\u001b[0m\u001b[0;34m\"Borough='QUEENS'\"\u001b[0m\u001b[0;34m)\u001b[0m\u001b[0;34m.\u001b[0m\u001b[0mgroupBy\u001b[0m\u001b[0;34m(\u001b[0m\u001b[0;34m'Borough'\u001b[0m\u001b[0;34m,\u001b[0m\u001b[0;34m'Complaint Type'\u001b[0m\u001b[0;34m)\u001b[0m\u001b[0;34m.\u001b[0m\u001b[0mcount\u001b[0m\u001b[0;34m(\u001b[0m\u001b[0;34m)\u001b[0m\u001b[0;34m.\u001b[0m\u001b[0morderBy\u001b[0m\u001b[0;34m(\u001b[0m\u001b[0;34m'count'\u001b[0m\u001b[0;34m,\u001b[0m \u001b[0mascending\u001b[0m\u001b[0;34m=\u001b[0m\u001b[0;32mFalse\u001b[0m\u001b[0;34m)\u001b[0m\u001b[0;34m.\u001b[0m\u001b[0mtake\u001b[0m\u001b[0;34m(\u001b[0m\u001b[0;36m5\u001b[0m\u001b[0;34m)\u001b[0m\u001b[0;34m,\u001b[0m\u001b[0;34m\u001b[0m\u001b[0;34m\u001b[0m\u001b[0m\n\u001b[1;32m      9\u001b[0m         \u001b[0;34m\"br\"\u001b[0m \u001b[0;34m:\u001b[0m \u001b[0mdf\u001b[0m\u001b[0;34m.\u001b[0m\u001b[0mfilter\u001b[0m\u001b[0;34m(\u001b[0m\u001b[0;34m\"Borough='BRONX'\"\u001b[0m\u001b[0;34m)\u001b[0m\u001b[0;34m.\u001b[0m\u001b[0mgroupBy\u001b[0m\u001b[0;34m(\u001b[0m\u001b[0;34m'Borough'\u001b[0m\u001b[0;34m,\u001b[0m\u001b[0;34m'Complaint Type'\u001b[0m\u001b[0;34m)\u001b[0m\u001b[0;34m.\u001b[0m\u001b[0mcount\u001b[0m\u001b[0;34m(\u001b[0m\u001b[0;34m)\u001b[0m\u001b[0;34m.\u001b[0m\u001b[0morderBy\u001b[0m\u001b[0;34m(\u001b[0m\u001b[0;34m'count'\u001b[0m\u001b[0;34m,\u001b[0m \u001b[0mascending\u001b[0m\u001b[0;34m=\u001b[0m\u001b[0;32mFalse\u001b[0m\u001b[0;34m)\u001b[0m\u001b[0;34m.\u001b[0m\u001b[0mtake\u001b[0m\u001b[0;34m(\u001b[0m\u001b[0;36m5\u001b[0m\u001b[0;34m)\u001b[0m\u001b[0;34m,\u001b[0m\u001b[0;34m\u001b[0m\u001b[0;34m\u001b[0m\u001b[0m\n\u001b[0;32m---> 10\u001b[0;31m         \u001b[0;34m\"si\"\u001b[0m \u001b[0;34m:\u001b[0m \u001b[0mdf\u001b[0m\u001b[0;34m.\u001b[0m\u001b[0mfilter\u001b[0m\u001b[0;34m(\u001b[0m\u001b[0;34m\"Borough='STATEN ISLAND'\"\u001b[0m\u001b[0;34m)\u001b[0m\u001b[0;34m.\u001b[0m\u001b[0mgroupBy\u001b[0m\u001b[0;34m(\u001b[0m\u001b[0;34m'Borough'\u001b[0m\u001b[0;34m,\u001b[0m\u001b[0;34m'Complaint Type'\u001b[0m\u001b[0;34m)\u001b[0m\u001b[0;34m.\u001b[0m\u001b[0mcount\u001b[0m\u001b[0;34m(\u001b[0m\u001b[0;34m)\u001b[0m\u001b[0;34m.\u001b[0m\u001b[0morderBy\u001b[0m\u001b[0;34m(\u001b[0m\u001b[0;34m'count'\u001b[0m\u001b[0;34m,\u001b[0m \u001b[0mascending\u001b[0m\u001b[0;34m=\u001b[0m\u001b[0;32mFalse\u001b[0m\u001b[0;34m)\u001b[0m\u001b[0;34m.\u001b[0m\u001b[0mtake\u001b[0m\u001b[0;34m(\u001b[0m\u001b[0;36m5\u001b[0m\u001b[0;34m)\u001b[0m\u001b[0;34m\u001b[0m\u001b[0;34m\u001b[0m\u001b[0m\n\u001b[0m\u001b[1;32m     11\u001b[0m     }\n\u001b[1;32m     12\u001b[0m \u001b[0;34m\u001b[0m\u001b[0m\n",
      "\u001b[0;32m/opt/anaconda3/lib/python3.7/site-packages/pyspark/sql/dataframe.py\u001b[0m in \u001b[0;36mtake\u001b[0;34m(self, num)\u001b[0m\n\u001b[1;32m    570\u001b[0m         \u001b[0;34m[\u001b[0m\u001b[0mRow\u001b[0m\u001b[0;34m(\u001b[0m\u001b[0mage\u001b[0m\u001b[0;34m=\u001b[0m\u001b[0;36m2\u001b[0m\u001b[0;34m,\u001b[0m \u001b[0mname\u001b[0m\u001b[0;34m=\u001b[0m\u001b[0;34mu'Alice'\u001b[0m\u001b[0;34m)\u001b[0m\u001b[0;34m,\u001b[0m \u001b[0mRow\u001b[0m\u001b[0;34m(\u001b[0m\u001b[0mage\u001b[0m\u001b[0;34m=\u001b[0m\u001b[0;36m5\u001b[0m\u001b[0;34m,\u001b[0m \u001b[0mname\u001b[0m\u001b[0;34m=\u001b[0m\u001b[0;34mu'Bob'\u001b[0m\u001b[0;34m)\u001b[0m\u001b[0;34m]\u001b[0m\u001b[0;34m\u001b[0m\u001b[0;34m\u001b[0m\u001b[0m\n\u001b[1;32m    571\u001b[0m         \"\"\"\n\u001b[0;32m--> 572\u001b[0;31m         \u001b[0;32mreturn\u001b[0m \u001b[0mself\u001b[0m\u001b[0;34m.\u001b[0m\u001b[0mlimit\u001b[0m\u001b[0;34m(\u001b[0m\u001b[0mnum\u001b[0m\u001b[0;34m)\u001b[0m\u001b[0;34m.\u001b[0m\u001b[0mcollect\u001b[0m\u001b[0;34m(\u001b[0m\u001b[0;34m)\u001b[0m\u001b[0;34m\u001b[0m\u001b[0;34m\u001b[0m\u001b[0m\n\u001b[0m\u001b[1;32m    573\u001b[0m \u001b[0;34m\u001b[0m\u001b[0m\n\u001b[1;32m    574\u001b[0m     \u001b[0;34m@\u001b[0m\u001b[0msince\u001b[0m\u001b[0;34m(\u001b[0m\u001b[0;36m1.3\u001b[0m\u001b[0;34m)\u001b[0m\u001b[0;34m\u001b[0m\u001b[0;34m\u001b[0m\u001b[0m\n",
      "\u001b[0;32m/opt/anaconda3/lib/python3.7/site-packages/pyspark/sql/dataframe.py\u001b[0m in \u001b[0;36mcollect\u001b[0;34m(self)\u001b[0m\n\u001b[1;32m    532\u001b[0m         \"\"\"\n\u001b[1;32m    533\u001b[0m         \u001b[0;32mwith\u001b[0m \u001b[0mSCCallSiteSync\u001b[0m\u001b[0;34m(\u001b[0m\u001b[0mself\u001b[0m\u001b[0;34m.\u001b[0m\u001b[0m_sc\u001b[0m\u001b[0;34m)\u001b[0m \u001b[0;32mas\u001b[0m \u001b[0mcss\u001b[0m\u001b[0;34m:\u001b[0m\u001b[0;34m\u001b[0m\u001b[0;34m\u001b[0m\u001b[0m\n\u001b[0;32m--> 534\u001b[0;31m             \u001b[0msock_info\u001b[0m \u001b[0;34m=\u001b[0m \u001b[0mself\u001b[0m\u001b[0;34m.\u001b[0m\u001b[0m_jdf\u001b[0m\u001b[0;34m.\u001b[0m\u001b[0mcollectToPython\u001b[0m\u001b[0;34m(\u001b[0m\u001b[0;34m)\u001b[0m\u001b[0;34m\u001b[0m\u001b[0;34m\u001b[0m\u001b[0m\n\u001b[0m\u001b[1;32m    535\u001b[0m         \u001b[0;32mreturn\u001b[0m \u001b[0mlist\u001b[0m\u001b[0;34m(\u001b[0m\u001b[0m_load_from_socket\u001b[0m\u001b[0;34m(\u001b[0m\u001b[0msock_info\u001b[0m\u001b[0;34m,\u001b[0m \u001b[0mBatchedSerializer\u001b[0m\u001b[0;34m(\u001b[0m\u001b[0mPickleSerializer\u001b[0m\u001b[0;34m(\u001b[0m\u001b[0;34m)\u001b[0m\u001b[0;34m)\u001b[0m\u001b[0;34m)\u001b[0m\u001b[0;34m)\u001b[0m\u001b[0;34m\u001b[0m\u001b[0;34m\u001b[0m\u001b[0m\n\u001b[1;32m    536\u001b[0m \u001b[0;34m\u001b[0m\u001b[0m\n",
      "\u001b[0;32m/opt/anaconda3/lib/python3.7/site-packages/py4j/java_gateway.py\u001b[0m in \u001b[0;36m__call__\u001b[0;34m(self, *args)\u001b[0m\n\u001b[1;32m   1253\u001b[0m             \u001b[0mproto\u001b[0m\u001b[0;34m.\u001b[0m\u001b[0mEND_COMMAND_PART\u001b[0m\u001b[0;34m\u001b[0m\u001b[0;34m\u001b[0m\u001b[0m\n\u001b[1;32m   1254\u001b[0m \u001b[0;34m\u001b[0m\u001b[0m\n\u001b[0;32m-> 1255\u001b[0;31m         \u001b[0manswer\u001b[0m \u001b[0;34m=\u001b[0m \u001b[0mself\u001b[0m\u001b[0;34m.\u001b[0m\u001b[0mgateway_client\u001b[0m\u001b[0;34m.\u001b[0m\u001b[0msend_command\u001b[0m\u001b[0;34m(\u001b[0m\u001b[0mcommand\u001b[0m\u001b[0;34m)\u001b[0m\u001b[0;34m\u001b[0m\u001b[0;34m\u001b[0m\u001b[0m\n\u001b[0m\u001b[1;32m   1256\u001b[0m         return_value = get_return_value(\n\u001b[1;32m   1257\u001b[0m             answer, self.gateway_client, self.target_id, self.name)\n",
      "\u001b[0;32m/opt/anaconda3/lib/python3.7/site-packages/py4j/java_gateway.py\u001b[0m in \u001b[0;36msend_command\u001b[0;34m(self, command, retry, binary)\u001b[0m\n\u001b[1;32m    983\u001b[0m         \u001b[0mconnection\u001b[0m \u001b[0;34m=\u001b[0m \u001b[0mself\u001b[0m\u001b[0;34m.\u001b[0m\u001b[0m_get_connection\u001b[0m\u001b[0;34m(\u001b[0m\u001b[0;34m)\u001b[0m\u001b[0;34m\u001b[0m\u001b[0;34m\u001b[0m\u001b[0m\n\u001b[1;32m    984\u001b[0m         \u001b[0;32mtry\u001b[0m\u001b[0;34m:\u001b[0m\u001b[0;34m\u001b[0m\u001b[0;34m\u001b[0m\u001b[0m\n\u001b[0;32m--> 985\u001b[0;31m             \u001b[0mresponse\u001b[0m \u001b[0;34m=\u001b[0m \u001b[0mconnection\u001b[0m\u001b[0;34m.\u001b[0m\u001b[0msend_command\u001b[0m\u001b[0;34m(\u001b[0m\u001b[0mcommand\u001b[0m\u001b[0;34m)\u001b[0m\u001b[0;34m\u001b[0m\u001b[0;34m\u001b[0m\u001b[0m\n\u001b[0m\u001b[1;32m    986\u001b[0m             \u001b[0;32mif\u001b[0m \u001b[0mbinary\u001b[0m\u001b[0;34m:\u001b[0m\u001b[0;34m\u001b[0m\u001b[0;34m\u001b[0m\u001b[0m\n\u001b[1;32m    987\u001b[0m                 \u001b[0;32mreturn\u001b[0m \u001b[0mresponse\u001b[0m\u001b[0;34m,\u001b[0m \u001b[0mself\u001b[0m\u001b[0;34m.\u001b[0m\u001b[0m_create_connection_guard\u001b[0m\u001b[0;34m(\u001b[0m\u001b[0mconnection\u001b[0m\u001b[0;34m)\u001b[0m\u001b[0;34m\u001b[0m\u001b[0;34m\u001b[0m\u001b[0m\n",
      "\u001b[0;32m/opt/anaconda3/lib/python3.7/site-packages/py4j/java_gateway.py\u001b[0m in \u001b[0;36msend_command\u001b[0;34m(self, command)\u001b[0m\n\u001b[1;32m   1150\u001b[0m \u001b[0;34m\u001b[0m\u001b[0m\n\u001b[1;32m   1151\u001b[0m         \u001b[0;32mtry\u001b[0m\u001b[0;34m:\u001b[0m\u001b[0;34m\u001b[0m\u001b[0;34m\u001b[0m\u001b[0m\n\u001b[0;32m-> 1152\u001b[0;31m             \u001b[0manswer\u001b[0m \u001b[0;34m=\u001b[0m \u001b[0msmart_decode\u001b[0m\u001b[0;34m(\u001b[0m\u001b[0mself\u001b[0m\u001b[0;34m.\u001b[0m\u001b[0mstream\u001b[0m\u001b[0;34m.\u001b[0m\u001b[0mreadline\u001b[0m\u001b[0;34m(\u001b[0m\u001b[0;34m)\u001b[0m\u001b[0;34m[\u001b[0m\u001b[0;34m:\u001b[0m\u001b[0;34m-\u001b[0m\u001b[0;36m1\u001b[0m\u001b[0;34m]\u001b[0m\u001b[0;34m)\u001b[0m\u001b[0;34m\u001b[0m\u001b[0;34m\u001b[0m\u001b[0m\n\u001b[0m\u001b[1;32m   1153\u001b[0m             \u001b[0mlogger\u001b[0m\u001b[0;34m.\u001b[0m\u001b[0mdebug\u001b[0m\u001b[0;34m(\u001b[0m\u001b[0;34m\"Answer received: {0}\"\u001b[0m\u001b[0;34m.\u001b[0m\u001b[0mformat\u001b[0m\u001b[0;34m(\u001b[0m\u001b[0manswer\u001b[0m\u001b[0;34m)\u001b[0m\u001b[0;34m)\u001b[0m\u001b[0;34m\u001b[0m\u001b[0;34m\u001b[0m\u001b[0m\n\u001b[1;32m   1154\u001b[0m             \u001b[0;32mif\u001b[0m \u001b[0manswer\u001b[0m\u001b[0;34m.\u001b[0m\u001b[0mstartswith\u001b[0m\u001b[0;34m(\u001b[0m\u001b[0mproto\u001b[0m\u001b[0;34m.\u001b[0m\u001b[0mRETURN_MESSAGE\u001b[0m\u001b[0;34m)\u001b[0m\u001b[0;34m:\u001b[0m\u001b[0;34m\u001b[0m\u001b[0;34m\u001b[0m\u001b[0m\n",
      "\u001b[0;32m/opt/anaconda3/lib/python3.7/socket.py\u001b[0m in \u001b[0;36mreadinto\u001b[0;34m(self, b)\u001b[0m\n\u001b[1;32m    587\u001b[0m         \u001b[0;32mwhile\u001b[0m \u001b[0;32mTrue\u001b[0m\u001b[0;34m:\u001b[0m\u001b[0;34m\u001b[0m\u001b[0;34m\u001b[0m\u001b[0m\n\u001b[1;32m    588\u001b[0m             \u001b[0;32mtry\u001b[0m\u001b[0;34m:\u001b[0m\u001b[0;34m\u001b[0m\u001b[0;34m\u001b[0m\u001b[0m\n\u001b[0;32m--> 589\u001b[0;31m                 \u001b[0;32mreturn\u001b[0m \u001b[0mself\u001b[0m\u001b[0;34m.\u001b[0m\u001b[0m_sock\u001b[0m\u001b[0;34m.\u001b[0m\u001b[0mrecv_into\u001b[0m\u001b[0;34m(\u001b[0m\u001b[0mb\u001b[0m\u001b[0;34m)\u001b[0m\u001b[0;34m\u001b[0m\u001b[0;34m\u001b[0m\u001b[0m\n\u001b[0m\u001b[1;32m    590\u001b[0m             \u001b[0;32mexcept\u001b[0m \u001b[0mtimeout\u001b[0m\u001b[0;34m:\u001b[0m\u001b[0;34m\u001b[0m\u001b[0;34m\u001b[0m\u001b[0m\n\u001b[1;32m    591\u001b[0m                 \u001b[0mself\u001b[0m\u001b[0;34m.\u001b[0m\u001b[0m_timeout_occurred\u001b[0m \u001b[0;34m=\u001b[0m \u001b[0;32mTrue\u001b[0m\u001b[0;34m\u001b[0m\u001b[0;34m\u001b[0m\u001b[0m\n",
      "\u001b[0;31mKeyboardInterrupt\u001b[0m: "
     ]
    }
   ],
   "source": [
    "# Aggregate values\n",
    "years = [2004, 2005, 2006, 2007, 2008, 2009, 2010]\n",
    "df_agg_dic = {}\n",
    "for df, year in zip(df_part_list, years):\n",
    "    df_agg_dic[year] = {\n",
    "        \"bk\" : df.filter(\"Borough='BROOKLYN'\").groupBy('Borough','Complaint Type').count().orderBy('count', ascending=False).take(5),\n",
    "        \"ma\" : df.filter(\"Borough='MANHATTAN'\").groupBy('Borough','Complaint Type').count().orderBy('count', ascending=False).take(5),\n",
    "        \"qu\" : df.filter(\"Borough='QUEENS'\").groupBy('Borough','Complaint Type').count().orderBy('count', ascending=False).take(5),\n",
    "        \"br\" : df.filter(\"Borough='BRONX'\").groupBy('Borough','Complaint Type').count().orderBy('count', ascending=False).take(5),\n",
    "        \"si\" : df.filter(\"Borough='STATEN ISLAND'\").groupBy('Borough','Complaint Type').count().orderBy('count', ascending=False).take(5)\n",
    "    }\n",
    "\n",
    "# Test\n",
    "print(df_agg_dic[2004])"
   ]
  },
  {
   "cell_type": "code",
   "execution_count": null,
   "metadata": {},
   "outputs": [],
   "source": []
  }
 ],
 "metadata": {
  "kernelspec": {
   "display_name": "Python 3",
   "language": "python",
   "name": "python3"
  },
  "language_info": {
   "codemirror_mode": {
    "name": "ipython",
    "version": 3
   },
   "file_extension": ".py",
   "mimetype": "text/x-python",
   "name": "python",
   "nbconvert_exporter": "python",
   "pygments_lexer": "ipython3",
   "version": "3.7.4"
  }
 },
 "nbformat": 4,
 "nbformat_minor": 2
}
