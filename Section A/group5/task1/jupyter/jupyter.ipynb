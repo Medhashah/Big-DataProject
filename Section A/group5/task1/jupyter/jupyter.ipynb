{
 "cells": [
  {
   "cell_type": "code",
   "execution_count": 6,
   "metadata": {},
   "outputs": [],
   "source": [
    "from typing import List\n",
    "from pyspark.sql import SparkSession, DataFrame\n",
    "from pyspark.sql import types as T\n",
    "from pyspark.sql import functions as F\n",
    "from collections import Counter\n",
    "from pyspark import SparkContext, RDD\n",
    "from csv import reader\n",
    "import itertools\n",
    "import rdd_util"
   ]
  },
  {
   "cell_type": "code",
   "execution_count": 4,
   "metadata": {},
   "outputs": [],
   "source": [
    "from pyspark import SparkContext\n",
    "spark = SparkSession \\\n",
    "    .builder \\\n",
    "    .appName(\"project\") \\\n",
    "    .config(\"spark.some.config.option\", \"some-value\") \\\n",
    "    .getOrCreate()"
   ]
  },
  {
   "cell_type": "code",
   "execution_count": 5,
   "metadata": {},
   "outputs": [],
   "source": [
    "path = '/user/hm74/NYCOpenData/2232-dj5q.tsv.gz'"
   ]
  },
  {
   "cell_type": "code",
   "execution_count": 30,
   "metadata": {},
   "outputs": [],
   "source": [
    "rdd = sc.textFile(path,1).mapPartitions(lambda x: reader(x, delimiter='\\t')).zipWithIndex()"
   ]
  },
  {
   "cell_type": "code",
   "execution_count": 87,
   "metadata": {},
   "outputs": [],
   "source": [
    "header = rdd.filter(lambda x: x[1] == 0) \\\n",
    "    .map(lambda x: (x[0])).collect()[0]  # extract the first part, ignore idx\n",
    "rows = rdd.filter(lambda x: x[1] != 0).map(lambda x: x[0])"
   ]
  },
  {
   "cell_type": "code",
   "execution_count": 154,
   "metadata": {},
   "outputs": [],
   "source": [
    "# Transform to [(col_idx, value),(col_idx, value)...]\n",
    "def d(x,header=header):\n",
    "    return [(header[i], x[i]) for i in range(len(x))]\n",
    "\n",
    "items = rows.flatMap(d).cache()"
   ]
  },
  {
   "cell_type": "code",
   "execution_count": 308,
   "metadata": {},
   "outputs": [
    {
     "data": {
      "text/plain": [
       "[('category',\n",
       "  'number of individuals who are on wait-list - DYCD-administered transitional independent living facilities'),\n",
       " ('single men', ''),\n",
       " ('single women', ''),\n",
       " ('total single adults', ''),\n",
       " ('families with children', '')]"
      ]
     },
     "execution_count": 308,
     "metadata": {},
     "output_type": "execute_result"
    }
   ],
   "source": [
    "items.take(5)"
   ]
  },
  {
   "cell_type": "code",
   "execution_count": 155,
   "metadata": {},
   "outputs": [],
   "source": [
    "def is_int(s):\n",
    "    try: \n",
    "        int(s)\n",
    "        return True\n",
    "    except ValueError:\n",
    "        return False"
   ]
  },
  {
   "cell_type": "code",
   "execution_count": 156,
   "metadata": {},
   "outputs": [],
   "source": [
    "def is_float(value):\n",
    "    if('.' not in value):\n",
    "        return False\n",
    "    try:\n",
    "        float(value)\n",
    "        return True\n",
    "    except ValueError:\n",
    "        return False"
   ]
  },
  {
   "cell_type": "code",
   "execution_count": 157,
   "metadata": {},
   "outputs": [],
   "source": [
    "a= [None]*6"
   ]
  },
  {
   "cell_type": "markdown",
   "metadata": {},
   "source": [
    "## Transform to [(col_idx,[value,type]),...]"
   ]
  },
  {
   "cell_type": "code",
   "execution_count": 158,
   "metadata": {},
   "outputs": [],
   "source": [
    "def mapd(x):\n",
    "    # [col_idx, (value, type)]\n",
    "    res = (x[0],[x[1],None])\n",
    "    if(x[1]==''):\n",
    "        res[1][1] = 'empty'\n",
    "    elif(is_int(x[1])):\n",
    "        res[1][1]= 'int'\n",
    "    elif(is_float(x[1])):\n",
    "        res[1][1] = 'real'\n",
    "    else:\n",
    "        res[1][1] = 'text'\n",
    "    return res\n",
    "maped_items = items.map(mapd)"
   ]
  },
  {
   "cell_type": "code",
   "execution_count": 201,
   "metadata": {},
   "outputs": [
    {
     "data": {
      "text/plain": [
       "[('category',\n",
       "  ['number of individuals who are on wait-list - DYCD-administered transitional independent living facilities',\n",
       "   'text']),\n",
       " ('single men', ['', 'empty']),\n",
       " ('single women', ['', 'empty']),\n",
       " ('total single adults', ['', 'empty']),\n",
       " ('families with children', ['', 'empty']),\n",
       " ('total families', ['', 'empty']),\n",
       " ('total adults in families', ['', 'empty']),\n",
       " ('total children', ['', 'empty']),\n",
       " ('data period', ['201810', 'int']),\n",
       " ('category',\n",
       "  ['Average Length of Stay: DHS -administered facility (by type, excluding drop-in and faith-based)',\n",
       "   'text']),\n",
       " ('single men', ['', 'empty']),\n",
       " ('single women', ['', 'empty'])]"
      ]
     },
     "execution_count": 201,
     "metadata": {},
     "output_type": "execute_result"
    }
   ],
   "source": [
    "maped_items.take(12)"
   ]
  },
  {
   "cell_type": "markdown",
   "metadata": {},
   "source": [
    "## Test aggregate"
   ]
  },
  {
   "cell_type": "code",
   "execution_count": 163,
   "metadata": {},
   "outputs": [
    {
     "data": {
      "text/plain": [
       "[2, 3]"
      ]
     },
     "execution_count": 163,
     "metadata": {},
     "output_type": "execute_result"
    }
   ],
   "source": [
    "def seqOp(local_rest, row: List):\n",
    "    if (row[1]):\n",
    "        local_rest[row[0]] += 1\n",
    "    return local_rest\n",
    "\n",
    "def combOp(local_1, local_2):\n",
    "    return [local_1[0]+local_2[0],local_1[1]+local_2[1]]\n",
    "\n",
    "listRDD = sc.parallelize([(0,'a'),(1,'b'),(0,'a'),(1,'b'),(1,'c')], 2)\n",
    "listRDD.aggregate([0,0],seqOp, combOp)"
   ]
  },
  {
   "cell_type": "markdown",
   "metadata": {},
   "source": [
    "## Count the null-empty, empty, total "
   ]
  },
  {
   "cell_type": "code",
   "execution_count": 213,
   "metadata": {},
   "outputs": [],
   "source": [
    "def seqFunc(local, x):\n",
    "    res= [i for i in local];\n",
    "    if(x[1]!='empty'):\n",
    "        res[0] = local[0]+1\n",
    "    else:\n",
    "        res[1] = local[1]+1\n",
    "    res[2] = local[2]+1\n",
    "    return res\n",
    "    \n",
    "combFunc = (lambda x, y: (x[0]+y[0], x[1] + y[1],x[2]+y[2]))\n",
    "\n",
    "count = maped_items.aggregateByKey((0,0,0),seqFunc,combFunc)"
   ]
  },
  {
   "cell_type": "code",
   "execution_count": 214,
   "metadata": {},
   "outputs": [
    {
     "data": {
      "text/plain": [
       "[('category', [176, 9, 185]),\n",
       " ('single men', [89, 96, 185]),\n",
       " ('single women', [44, 141, 185]),\n",
       " ('total single adults', [44, 141, 185]),\n",
       " ('families with children', [33, 152, 185]),\n",
       " ('total families', [33, 152, 185]),\n",
       " ('total adults in families', [34, 151, 185]),\n",
       " ('total children', [54, 131, 185]),\n",
       " ('data period', [185, 0, 185])]"
      ]
     },
     "execution_count": 214,
     "metadata": {},
     "output_type": "execute_result"
    }
   ],
   "source": [
    "count.collect()"
   ]
  },
  {
   "cell_type": "markdown",
   "metadata": {},
   "source": [
    "## Count frequency and distinct num"
   ]
  },
  {
   "cell_type": "code",
   "execution_count": 267,
   "metadata": {},
   "outputs": [],
   "source": [
    "freq_items = items.map(lambda x: ((x[0],x[1]),1)).aggregateByKey((0,0),(lambda x, y: (0, x[1] + 1)),(lambda x, y: (x[1] + y[1])))"
   ]
  },
  {
   "cell_type": "code",
   "execution_count": 268,
   "metadata": {
    "scrolled": true
   },
   "outputs": [
    {
     "data": {
      "text/plain": [
       "[(('category',\n",
       "   'number of individuals who are on wait-list - DYCD-administered transitional independent living facilities'),\n",
       "  (0, 11)),\n",
       " (('single men', ''), (0, 96)),\n",
       " (('single women', ''), (0, 141)),\n",
       " (('total single adults', ''), (0, 141)),\n",
       " (('families with children', ''), (0, 152))]"
      ]
     },
     "execution_count": 268,
     "metadata": {},
     "output_type": "execute_result"
    }
   ],
   "source": [
    "freq_items.take(5)"
   ]
  },
  {
   "cell_type": "code",
   "execution_count": 269,
   "metadata": {},
   "outputs": [
    {
     "data": {
      "text/plain": [
       "[('category',\n",
       "  'number of individuals who are on wait-list - DYCD-administered transitional independent living facilities',\n",
       "  11),\n",
       " ('single men', '', 96),\n",
       " ('single women', '', 141),\n",
       " ('total single adults', '', 141),\n",
       " ('families with children', '', 152)]"
      ]
     },
     "execution_count": 269,
     "metadata": {},
     "output_type": "execute_result"
    }
   ],
   "source": [
    "freq_items.map(lambda x: (x[0][0],x[0][1],x[1][1])).take(5)"
   ]
  },
  {
   "cell_type": "code",
   "execution_count": 270,
   "metadata": {},
   "outputs": [],
   "source": [
    "freq_items = freq_items.map(lambda x: ((x[0][0]),(x[0][1],x[1][1])))"
   ]
  },
  {
   "cell_type": "code",
   "execution_count": 310,
   "metadata": {},
   "outputs": [
    {
     "data": {
      "text/plain": [
       "[('category',\n",
       "  ('number of individuals who are on wait-list - DYCD-administered transitional independent living facilities',\n",
       "   11)),\n",
       " ('single men', ('', 96)),\n",
       " ('single women', ('', 141)),\n",
       " ('total single adults', ('', 141)),\n",
       " ('families with children', ('', 152)),\n",
       " ('total families', ('', 152)),\n",
       " ('total adults in families', ('', 151)),\n",
       " ('total children', ('', 131)),\n",
       " ('data period', ('201810', 16)),\n",
       " ('category',\n",
       "  ('Average Length of Stay: DHS -administered facility (by type, excluding drop-in and faith-based)',\n",
       "   11))]"
      ]
     },
     "execution_count": 310,
     "metadata": {},
     "output_type": "execute_result"
    }
   ],
   "source": [
    "freq_items.take(10)"
   ]
  },
  {
   "cell_type": "code",
   "execution_count": 311,
   "metadata": {},
   "outputs": [],
   "source": [
    "test = freq_items.sortBy(lambda x: x[1][1],ascending=False).groupByKey()"
   ]
  },
  {
   "cell_type": "code",
   "execution_count": 303,
   "metadata": {},
   "outputs": [],
   "source": [
    "import itertools"
   ]
  },
  {
   "cell_type": "code",
   "execution_count": 305,
   "metadata": {},
   "outputs": [
    {
     "data": {
      "text/plain": [
       "[('', 152), ('7', 5), ('5', 4), ('8', 3), ('13', 3)]"
      ]
     },
     "execution_count": 305,
     "metadata": {},
     "output_type": "execute_result"
    }
   ],
   "source": [
    "list(itertools.islice(test.take(1)[0][1], 5))"
   ]
  },
  {
   "cell_type": "code",
   "execution_count": 322,
   "metadata": {},
   "outputs": [],
   "source": [
    "def top5(x):\n",
    "    res = [len(x)]\n",
    "    return [len(x),*list(itertools.islice(x,5))]        "
   ]
  },
  {
   "cell_type": "code",
   "execution_count": 323,
   "metadata": {},
   "outputs": [
    {
     "data": {
      "text/plain": [
       "[('families with children',\n",
       "  [18, ('', 152), ('7', 5), ('5', 4), ('8', 3), ('13', 3)]),\n",
       " ('total families', [18, ('', 152), ('7', 5), ('5', 4), ('8', 3), ('13', 3)]),\n",
       " ('total adults in families',\n",
       "  [20, ('', 151), ('7', 5), ('8', 3), ('4', 3), ('3', 3)]),\n",
       " ('single women', [41, ('', 141), ('60', 2), ('27', 2), ('38', 2), ('61', 2)]),\n",
       " ('total single adults',\n",
       "  [39, ('', 141), ('117', 3), ('77', 2), ('42', 2), ('113', 2)]),\n",
       " ('total children',\n",
       "  [38, ('', 131), ('3', 3), ('0.95', 3), ('10', 3), ('5', 3)]),\n",
       " ('single men',\n",
       "  [71, ('', 96), ('0.92', 7), ('0.91', 4), ('0.93', 3), ('0.89', 3)]),\n",
       " ('data period',\n",
       "  [11,\n",
       "   ('201908', 19),\n",
       "   ('201905', 18),\n",
       "   ('201906', 18),\n",
       "   ('201907', 18),\n",
       "   ('201810', 16)]),\n",
       " ('category',\n",
       "  [18,\n",
       "   ('number of individuals who are on wait-list - DYCD-administered transitional independent living facilities',\n",
       "    11),\n",
       "   ('Average Length of Stay: DHS -administered facility (by type, excluding drop-in and faith-based)',\n",
       "    11),\n",
       "   ('Average Length of Stay: DYCD -administered crisis facility', 11),\n",
       "   ('number of unduplicated persons - DYCD-administered facilities', 11),\n",
       "   ('number of unduplicated persons - DYCD-administered crisis shelters',\n",
       "    11)])]"
      ]
     },
     "execution_count": 323,
     "metadata": {},
     "output_type": "execute_result"
    }
   ],
   "source": [
    "test.mapValues(top5).take(10)"
   ]
  },
  {
   "cell_type": "code",
   "execution_count": 358,
   "metadata": {},
   "outputs": [],
   "source": [
    "def generate_distinct_top5(items: RDD) -> List:\n",
    "    freq_items = items.map(lambda x: ((x[0], x[1]), 1)) \\\n",
    "        .aggregateByKey((0, 0),\n",
    "                        (lambda x, y: (0, x[1] + 1)),\n",
    "                        (lambda x, y: (x[1] + y[\n",
    "                            1]))) \\\n",
    "        .map(lambda x: ((x[0][0]), (x[0][1], x[1][1])))\n",
    "    sorted_grouped_freq_items = freq_items.sortBy(lambda x: x[1][1], ascending=False).groupByKey()\n",
    "    res = sorted_grouped_freq_items.mapValues(lambda x: (len(x),list(itertools.islice(x,5))))\n",
    "    return res\n",
    "\n",
    "def generate_null_empty(maped_items: RDD) -> List:\n",
    "    def seqFunc(local, x):\n",
    "        res = [i for i in local];\n",
    "        if (x[1] != 'empty'):\n",
    "            res[0] = local[0] + 1\n",
    "        else:\n",
    "            res[1] = local[1] + 1\n",
    "        res[2] = local[2] + 1\n",
    "        return res\n",
    "\n",
    "    combFunc = (lambda x, y: (x[0] + y[0], x[1] + y[1], x[2] + y[2]))\n",
    "    count = maped_items.aggregateByKey((0, 0, 0), seqFunc, combFunc)\n",
    "    # null-empty, empty, total\n",
    "    # [('category', [176, 9, 185]),...]\n",
    "    return count"
   ]
  },
  {
   "cell_type": "code",
   "execution_count": 359,
   "metadata": {},
   "outputs": [],
   "source": [
    "res1= generate_null_empty(maped_items)\n",
    "res2 = generate_distinct_top5(items)"
   ]
  },
  {
   "cell_type": "code",
   "execution_count": 361,
   "metadata": {},
   "outputs": [
    {
     "data": {
      "text/plain": [
       "[('families with children',\n",
       "  (18, [('', 152), ('7', 5), ('5', 4), ('8', 3), ('13', 3)]))]"
      ]
     },
     "execution_count": 361,
     "metadata": {},
     "output_type": "execute_result"
    }
   ],
   "source": [
    "res2.take(1)"
   ]
  },
  {
   "cell_type": "code",
   "execution_count": 362,
   "metadata": {},
   "outputs": [
    {
     "data": {
      "text/plain": [
       "[('category', [176, 9, 185])]"
      ]
     },
     "execution_count": 362,
     "metadata": {},
     "output_type": "execute_result"
    }
   ],
   "source": [
    "res1.take(1)"
   ]
  },
  {
   "cell_type": "code",
   "execution_count": 386,
   "metadata": {},
   "outputs": [],
   "source": [
    "flat_res = res1.join(res2).map(lambda x: (x[0],(*x[1][0],*x[1][1]))).collect()"
   ]
  },
  {
   "cell_type": "code",
   "execution_count": 387,
   "metadata": {},
   "outputs": [
    {
     "data": {
      "text/plain": [
       "[('category',\n",
       "  (176,\n",
       "   9,\n",
       "   185,\n",
       "   18,\n",
       "   [('number of individuals who are on wait-list - DYCD-administered transitional independent living facilities',\n",
       "     11),\n",
       "    ('Average Length of Stay: DHS -administered facility (by type, excluding drop-in and faith-based)',\n",
       "     11),\n",
       "    ('Average Length of Stay: DYCD -administered crisis facility', 11),\n",
       "    ('number of unduplicated persons - DYCD-administered facilities', 11),\n",
       "    ('number of unduplicated persons - DYCD-administered crisis shelters',\n",
       "     11)])),\n",
       " ('single men',\n",
       "  (89,\n",
       "   96,\n",
       "   185,\n",
       "   71,\n",
       "   [('', 96), ('0.92', 7), ('0.91', 4), ('0.93', 3), ('0.89', 3)])),\n",
       " ('single women',\n",
       "  (44, 141, 185, 41, [('', 141), ('60', 2), ('27', 2), ('38', 2), ('61', 2)])),\n",
       " ('total single adults',\n",
       "  (44,\n",
       "   141,\n",
       "   185,\n",
       "   39,\n",
       "   [('', 141), ('117', 3), ('77', 2), ('42', 2), ('113', 2)])),\n",
       " ('families with children',\n",
       "  (33, 152, 185, 18, [('', 152), ('7', 5), ('5', 4), ('8', 3), ('13', 3)])),\n",
       " ('total families',\n",
       "  (33, 152, 185, 18, [('', 152), ('7', 5), ('5', 4), ('8', 3), ('13', 3)])),\n",
       " ('total adults in families',\n",
       "  (34, 151, 185, 20, [('', 151), ('7', 5), ('8', 3), ('4', 3), ('3', 3)])),\n",
       " ('total children',\n",
       "  (54, 131, 185, 38, [('', 131), ('3', 3), ('0.95', 3), ('10', 3), ('5', 3)])),\n",
       " ('data period',\n",
       "  (185,\n",
       "   0,\n",
       "   185,\n",
       "   11,\n",
       "   [('201908', 19),\n",
       "    ('201905', 18),\n",
       "    ('201906', 18),\n",
       "    ('201907', 18),\n",
       "    ('201810', 16)]))]"
      ]
     },
     "execution_count": 387,
     "metadata": {},
     "output_type": "execute_result"
    }
   ],
   "source": [
    "flat_res"
   ]
  },
  {
   "cell_type": "code",
   "execution_count": 375,
   "metadata": {},
   "outputs": [
    {
     "data": {
      "text/plain": [
       "9"
      ]
     },
     "execution_count": 375,
     "metadata": {},
     "output_type": "execute_result"
    }
   ],
   "source": [
    "len(header)"
   ]
  },
  {
   "cell_type": "code",
   "execution_count": 379,
   "metadata": {},
   "outputs": [],
   "source": [
    "columns=[]\n",
    "for res in flat_res:\n",
    "    column_data = {\n",
    "        'column_name': res[0],\n",
    "        'number_non_empty_cells': res[1][0],\n",
    "        'number_empty_cells': res[1][1],\n",
    "        'number_distinct_values': res[1][3],\n",
    "        'frequent_values': res[1][4]\n",
    "    }\n",
    "    columns.append(column_data)"
   ]
  },
  {
   "cell_type": "code",
   "execution_count": null,
   "metadata": {},
   "outputs": [],
   "source": []
  }
 ],
 "metadata": {
  "kernelspec": {
   "display_name": "Spark-2.3.0 / PySpark",
   "language": "python",
   "name": "python3"
  },
  "language_info": {
   "codemirror_mode": {
    "name": "ipython",
    "version": 3
   },
   "file_extension": ".py",
   "mimetype": "text/x-python",
   "name": "python",
   "nbconvert_exporter": "python",
   "pygments_lexer": "ipython3",
   "version": "3.6.5"
  }
 },
 "nbformat": 4,
 "nbformat_minor": 2
}
