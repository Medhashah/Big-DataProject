version https://git-lfs.github.com/spec/v1
oid sha256:fc69e9a56847d4d59ba4171340d1f2012a7670cc9de396d228d238c0911b9dfa
size 57818
