version https://git-lfs.github.com/spec/v1
oid sha256:3c3a6ddae9e32615d0d3474a5bbce30537ac35482dab005dd1221a8a99ec7be2
size 389764
