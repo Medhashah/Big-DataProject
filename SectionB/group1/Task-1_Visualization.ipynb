{
 "cells": [
  {
   "cell_type": "code",
   "execution_count": 1,
   "metadata": {},
   "outputs": [],
   "source": [
    "import os\n",
    "import csv\n",
    "import string\n",
    "import json\n",
    "import ast"
   ]
  },
  {
   "cell_type": "code",
   "execution_count": 24,
   "metadata": {},
   "outputs": [],
   "source": [
    "json_list=os.listdir('Task1_Results/')"
   ]
  },
  {
   "cell_type": "code",
   "execution_count": 25,
   "metadata": {},
   "outputs": [],
   "source": [
    "count_dict={}\n",
    "count_dict['Integer']=0\n",
    "count_dict['Float']=0\n",
    "count_dict['String']=0\n",
    "count_dict['Date']=0\n",
    "count_dict['String/Date']=0\n",
    "count_dict['String/Integer']=0\n",
    "count_dict['String/Float']=0"
   ]
  },
  {
   "cell_type": "code",
   "execution_count": 29,
   "metadata": {},
   "outputs": [],
   "source": [
    "\n",
    "def process_file(contents):\n",
    "    for c in contents[1:]:\n",
    "        try:\n",
    "            d=ast.literal_eval(c)\n",
    "        except:\n",
    "            continue\n",
    "        type_l=[]\n",
    "        for x in d['data_types']:\n",
    "            type_l.append(x['type'])\n",
    "        if 'TEXT' in type_l and \"DATE/TIME\" in type_l:\n",
    "            count_dict['String/Date']=count_dict['String/Date']+1\n",
    "        if 'TEXT' in type_l and 'INTEGER (LONG)' in type_l:\n",
    "            count_dict['String/Integer']=count_dict['String/Integer']+1\n",
    "        if 'TEXT' in type_l and 'REAL' in type_l:\n",
    "            count_dict['String/Float']=count_dict['String/Float']+1\n",
    "        for t in type_l:\n",
    "            if t=='TEXT':\n",
    "                count_dict['String']=count_dict['String']+1\n",
    "            elif t=='DATE/TIME':\n",
    "                count_dict['Date']=count_dict['Date']+1\n",
    "            elif t=='REAL':\n",
    "                count_dict['Float']=count_dict['Float']+1\n",
    "            elif t=='INTEGER (LONG)':\n",
    "                count_dict['Integer']=count_dict['Integer']+1"
   ]
  },
  {
   "cell_type": "code",
   "execution_count": 30,
   "metadata": {},
   "outputs": [],
   "source": [
    "for j in json_list:\n",
    "    file=open('Task1_Results/'+j)\n",
    "    contents=file.read()\n",
    "    contents=contents.replace(\"}{\", \"}kill_me{\")\n",
    "    contents=contents.split(\"kill_me\")\n",
    "    process_file(contents)"
   ]
  },
  {
   "cell_type": "code",
   "execution_count": 31,
   "metadata": {},
   "outputs": [
    {
     "name": "stdout",
     "output_type": "stream",
     "text": [
      "{'Integer': 14613, 'Float': 10231, 'String': 18460, 'Date': 7516, 'String/Date': 7516, 'String/Integer': 5098, 'String/Float': 5904}\n"
     ]
    }
   ],
   "source": [
    "print(count_dict)"
   ]
  },
  {
   "cell_type": "code",
   "execution_count": 32,
   "metadata": {},
   "outputs": [],
   "source": [
    "import matplotlib.pyplot as plt\n",
    "import seaborn as sns\n",
    "import pandas as pd\n",
    "%matplotlib inline\n",
    "sns.set()"
   ]
  },
  {
   "cell_type": "code",
   "execution_count": 33,
   "metadata": {},
   "outputs": [],
   "source": [
    "x=pd.DataFrame(list(count_dict.items())).copy()"
   ]
  },
  {
   "cell_type": "code",
   "execution_count": 34,
   "metadata": {},
   "outputs": [],
   "source": [
    "x.index=count_dict.keys()"
   ]
  },
  {
   "cell_type": "code",
   "execution_count": 37,
   "metadata": {},
   "outputs": [
    {
     "data": {
      "text/plain": [
       "<matplotlib.axes._subplots.AxesSubplot at 0x227343994e0>"
      ]
     },
     "execution_count": 37,
     "metadata": {},
     "output_type": "execute_result"
    },
    {
     "data": {
      "image/png": "[encoded data removed]",
      "text/plain": [
       "<Figure size 720x576 with 1 Axes>"
      ]
     },
     "metadata": {
      "needs_background": "light"
     },
     "output_type": "display_data"
    }
   ],
   "source": [
    "x.plot(kind='barh', legend=False, figsize=(10, 8))"
   ]
  },
  {
   "cell_type": "code",
   "execution_count": null,
   "metadata": {},
   "outputs": [],
   "source": []
  }
 ],
 "metadata": {
  "kernelspec": {
   "display_name": "Python 3",
   "language": "python",
   "name": "python3"
  },
  "language_info": {
   "codemirror_mode": {
    "name": "ipython",
    "version": 3
   },
   "file_extension": ".py",
   "mimetype": "text/x-python",
   "name": "python",
   "nbconvert_exporter": "python",
   "pygments_lexer": "ipython3",
   "version": "3.7.3"
  }
 },
 "nbformat": 4,
 "nbformat_minor": 2
}
